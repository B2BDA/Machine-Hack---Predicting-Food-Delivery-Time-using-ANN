{
 "cells": [
  {
   "cell_type": "code",
   "execution_count": 1,
   "metadata": {},
   "outputs": [],
   "source": [
    "import pandas as pd\n",
    "import numpy as np\n",
    "import matplotlib.pyplot as plt\n",
    "import seaborn as sns\n",
    "%matplotlib inline\n",
    "plt.style.use('fivethirtyeight')"
   ]
  },
  {
   "cell_type": "code",
   "execution_count": 2,
   "metadata": {},
   "outputs": [],
   "source": [
    "import random\n",
    "random.seed(1429)"
   ]
  },
  {
   "cell_type": "code",
   "execution_count": 3,
   "metadata": {},
   "outputs": [],
   "source": [
    "df=pd.read_excel(\"Data_Train.xlsx\")"
   ]
  },
  {
   "cell_type": "code",
   "execution_count": 4,
   "metadata": {
    "scrolled": true
   },
   "outputs": [
    {
     "data": {
      "text/html": [
       "<div>\n",
       "<style scoped>\n",
       "    .dataframe tbody tr th:only-of-type {\n",
       "        vertical-align: middle;\n",
       "    }\n",
       "\n",
       "    .dataframe tbody tr th {\n",
       "        vertical-align: top;\n",
       "    }\n",
       "\n",
       "    .dataframe thead th {\n",
       "        text-align: right;\n",
       "    }\n",
       "</style>\n",
       "<table border=\"1\" class=\"dataframe\">\n",
       "  <thead>\n",
       "    <tr style=\"text-align: right;\">\n",
       "      <th></th>\n",
       "      <th>Restaurant</th>\n",
       "      <th>Location</th>\n",
       "      <th>Cuisines</th>\n",
       "      <th>Average_Cost</th>\n",
       "      <th>Minimum_Order</th>\n",
       "      <th>Rating</th>\n",
       "      <th>Votes</th>\n",
       "      <th>Reviews</th>\n",
       "      <th>Delivery_Time</th>\n",
       "    </tr>\n",
       "  </thead>\n",
       "  <tbody>\n",
       "    <tr>\n",
       "      <th>0</th>\n",
       "      <td>ID_6321</td>\n",
       "      <td>FTI College, Law College Road, Pune</td>\n",
       "      <td>Fast Food, Rolls, Burger, Salad, Wraps</td>\n",
       "      <td>₹200</td>\n",
       "      <td>₹50</td>\n",
       "      <td>3.5</td>\n",
       "      <td>12</td>\n",
       "      <td>4</td>\n",
       "      <td>30 minutes</td>\n",
       "    </tr>\n",
       "    <tr>\n",
       "      <th>1</th>\n",
       "      <td>ID_2882</td>\n",
       "      <td>Sector 3, Marathalli</td>\n",
       "      <td>Ice Cream, Desserts</td>\n",
       "      <td>₹100</td>\n",
       "      <td>₹50</td>\n",
       "      <td>3.5</td>\n",
       "      <td>11</td>\n",
       "      <td>4</td>\n",
       "      <td>30 minutes</td>\n",
       "    </tr>\n",
       "    <tr>\n",
       "      <th>2</th>\n",
       "      <td>ID_1595</td>\n",
       "      <td>Mumbai Central</td>\n",
       "      <td>Italian, Street Food, Fast Food</td>\n",
       "      <td>₹150</td>\n",
       "      <td>₹50</td>\n",
       "      <td>3.6</td>\n",
       "      <td>99</td>\n",
       "      <td>30</td>\n",
       "      <td>65 minutes</td>\n",
       "    </tr>\n",
       "    <tr>\n",
       "      <th>3</th>\n",
       "      <td>ID_5929</td>\n",
       "      <td>Sector 1, Noida</td>\n",
       "      <td>Mughlai, North Indian, Chinese</td>\n",
       "      <td>₹250</td>\n",
       "      <td>₹99</td>\n",
       "      <td>3.7</td>\n",
       "      <td>176</td>\n",
       "      <td>95</td>\n",
       "      <td>30 minutes</td>\n",
       "    </tr>\n",
       "    <tr>\n",
       "      <th>4</th>\n",
       "      <td>ID_6123</td>\n",
       "      <td>Rmz Centennial, I Gate, Whitefield</td>\n",
       "      <td>Cafe, Beverages</td>\n",
       "      <td>₹200</td>\n",
       "      <td>₹99</td>\n",
       "      <td>3.2</td>\n",
       "      <td>521</td>\n",
       "      <td>235</td>\n",
       "      <td>65 minutes</td>\n",
       "    </tr>\n",
       "  </tbody>\n",
       "</table>\n",
       "</div>"
      ],
      "text/plain": [
       "  Restaurant                             Location  \\\n",
       "0    ID_6321  FTI College, Law College Road, Pune   \n",
       "1    ID_2882                 Sector 3, Marathalli   \n",
       "2    ID_1595                       Mumbai Central   \n",
       "3    ID_5929                      Sector 1, Noida   \n",
       "4    ID_6123   Rmz Centennial, I Gate, Whitefield   \n",
       "\n",
       "                                 Cuisines Average_Cost Minimum_Order Rating  \\\n",
       "0  Fast Food, Rolls, Burger, Salad, Wraps         ₹200           ₹50    3.5   \n",
       "1                     Ice Cream, Desserts         ₹100           ₹50    3.5   \n",
       "2         Italian, Street Food, Fast Food         ₹150           ₹50    3.6   \n",
       "3          Mughlai, North Indian, Chinese         ₹250           ₹99    3.7   \n",
       "4                         Cafe, Beverages         ₹200           ₹99    3.2   \n",
       "\n",
       "  Votes Reviews Delivery_Time  \n",
       "0    12       4    30 minutes  \n",
       "1    11       4    30 minutes  \n",
       "2    99      30    65 minutes  \n",
       "3   176      95    30 minutes  \n",
       "4   521     235    65 minutes  "
      ]
     },
     "execution_count": 4,
     "metadata": {},
     "output_type": "execute_result"
    }
   ],
   "source": [
    "df.head()"
   ]
  },
  {
   "cell_type": "code",
   "execution_count": 5,
   "metadata": {},
   "outputs": [
    {
     "data": {
      "text/html": [
       "<div>\n",
       "<style scoped>\n",
       "    .dataframe tbody tr th:only-of-type {\n",
       "        vertical-align: middle;\n",
       "    }\n",
       "\n",
       "    .dataframe tbody tr th {\n",
       "        vertical-align: top;\n",
       "    }\n",
       "\n",
       "    .dataframe thead th {\n",
       "        text-align: right;\n",
       "    }\n",
       "</style>\n",
       "<table border=\"1\" class=\"dataframe\">\n",
       "  <thead>\n",
       "    <tr style=\"text-align: right;\">\n",
       "      <th></th>\n",
       "      <th>Restaurant</th>\n",
       "      <th>Location</th>\n",
       "      <th>Cuisines</th>\n",
       "      <th>Average_Cost</th>\n",
       "      <th>Minimum_Order</th>\n",
       "      <th>Rating</th>\n",
       "      <th>Votes</th>\n",
       "      <th>Reviews</th>\n",
       "      <th>Delivery_Time</th>\n",
       "    </tr>\n",
       "  </thead>\n",
       "  <tbody>\n",
       "    <tr>\n",
       "      <th>11089</th>\n",
       "      <td>ID_8067</td>\n",
       "      <td>BTM Layout 1, Electronic City</td>\n",
       "      <td>Tibetan, Chinese, Continental, Momos</td>\n",
       "      <td>₹250</td>\n",
       "      <td>₹50</td>\n",
       "      <td>4.2</td>\n",
       "      <td>326</td>\n",
       "      <td>189</td>\n",
       "      <td>30 minutes</td>\n",
       "    </tr>\n",
       "    <tr>\n",
       "      <th>11090</th>\n",
       "      <td>ID_4620</td>\n",
       "      <td>Sector 14, Noida</td>\n",
       "      <td>Fast Food</td>\n",
       "      <td>₹100</td>\n",
       "      <td>₹50</td>\n",
       "      <td>3.6</td>\n",
       "      <td>36</td>\n",
       "      <td>16</td>\n",
       "      <td>30 minutes</td>\n",
       "    </tr>\n",
       "    <tr>\n",
       "      <th>11091</th>\n",
       "      <td>ID_3392</td>\n",
       "      <td>Majestic</td>\n",
       "      <td>South Indian, Chinese, North Indian</td>\n",
       "      <td>₹100</td>\n",
       "      <td>₹50</td>\n",
       "      <td>3.5</td>\n",
       "      <td>45</td>\n",
       "      <td>18</td>\n",
       "      <td>30 minutes</td>\n",
       "    </tr>\n",
       "    <tr>\n",
       "      <th>11092</th>\n",
       "      <td>ID_4115</td>\n",
       "      <td>Sector 3, Marathalli</td>\n",
       "      <td>North Indian</td>\n",
       "      <td>₹100</td>\n",
       "      <td>₹50</td>\n",
       "      <td>3.1</td>\n",
       "      <td>24</td>\n",
       "      <td>9</td>\n",
       "      <td>30 minutes</td>\n",
       "    </tr>\n",
       "    <tr>\n",
       "      <th>11093</th>\n",
       "      <td>ID_4417</td>\n",
       "      <td>Sector 63A,Gurgaon</td>\n",
       "      <td>North Indian</td>\n",
       "      <td>₹100</td>\n",
       "      <td>₹50</td>\n",
       "      <td>NEW</td>\n",
       "      <td>-</td>\n",
       "      <td>-</td>\n",
       "      <td>30 minutes</td>\n",
       "    </tr>\n",
       "  </tbody>\n",
       "</table>\n",
       "</div>"
      ],
      "text/plain": [
       "      Restaurant                       Location  \\\n",
       "11089    ID_8067  BTM Layout 1, Electronic City   \n",
       "11090    ID_4620               Sector 14, Noida   \n",
       "11091    ID_3392                       Majestic   \n",
       "11092    ID_4115           Sector 3, Marathalli   \n",
       "11093    ID_4417             Sector 63A,Gurgaon   \n",
       "\n",
       "                                   Cuisines Average_Cost Minimum_Order Rating  \\\n",
       "11089  Tibetan, Chinese, Continental, Momos         ₹250           ₹50    4.2   \n",
       "11090                             Fast Food         ₹100           ₹50    3.6   \n",
       "11091   South Indian, Chinese, North Indian         ₹100           ₹50    3.5   \n",
       "11092                          North Indian         ₹100           ₹50    3.1   \n",
       "11093                          North Indian         ₹100           ₹50    NEW   \n",
       "\n",
       "      Votes Reviews Delivery_Time  \n",
       "11089   326     189    30 minutes  \n",
       "11090    36      16    30 minutes  \n",
       "11091    45      18    30 minutes  \n",
       "11092    24       9    30 minutes  \n",
       "11093     -       -    30 minutes  "
      ]
     },
     "execution_count": 5,
     "metadata": {},
     "output_type": "execute_result"
    }
   ],
   "source": [
    "df.tail()"
   ]
  },
  {
   "cell_type": "code",
   "execution_count": 6,
   "metadata": {},
   "outputs": [],
   "source": [
    "df.drop(labels=['Restaurant'], axis=1, inplace=True)"
   ]
  },
  {
   "cell_type": "code",
   "execution_count": null,
   "metadata": {},
   "outputs": [],
   "source": [
    "df.Location=df.Location.str.replace('\\d+',\"\")"
   ]
  },
  {
   "cell_type": "code",
   "execution_count": null,
   "metadata": {},
   "outputs": [],
   "source": [
    "import spacy"
   ]
  },
  {
   "cell_type": "code",
   "execution_count": null,
   "metadata": {},
   "outputs": [],
   "source": [
    "nlp=spacy.load('en_core_web_sm')"
   ]
  },
  {
   "cell_type": "code",
   "execution_count": null,
   "metadata": {},
   "outputs": [],
   "source": [
    "def punc_remove(text):        \n",
    "    sent = []\n",
    "    doc = nlp(text)\n",
    "    for word in doc:\n",
    "        if not word.is_punct | word.is_space:\n",
    "            sent.append(word.text)\n",
    "    return \" \".join(sent)\n"
   ]
  },
  {
   "cell_type": "code",
   "execution_count": null,
   "metadata": {},
   "outputs": [],
   "source": [
    "df.Location=df.apply(lambda a : punc_remove(a['Location']), axis=1)"
   ]
  },
  {
   "cell_type": "code",
   "execution_count": null,
   "metadata": {},
   "outputs": [],
   "source": [
    "from sklearn.feature_extraction.text import CountVectorizer, TfidfVectorizer\n",
    "from sklearn.feature_extraction import text"
   ]
  },
  {
   "cell_type": "code",
   "execution_count": null,
   "metadata": {},
   "outputs": [],
   "source": [
    "stopw=list(text.ENGLISH_STOP_WORDS)"
   ]
  },
  {
   "cell_type": "code",
   "execution_count": null,
   "metadata": {},
   "outputs": [],
   "source": [
    "cvec=CountVectorizer(stop_words=stopw)"
   ]
  },
  {
   "cell_type": "code",
   "execution_count": null,
   "metadata": {},
   "outputs": [],
   "source": [
    "cvec.fit_transform(df.Location)"
   ]
  },
  {
   "cell_type": "code",
   "execution_count": null,
   "metadata": {},
   "outputs": [],
   "source": [
    "print(cvec.vocabulary_)"
   ]
  },
  {
   "cell_type": "code",
   "execution_count": null,
   "metadata": {},
   "outputs": [],
   "source": [
    "tfvec=TfidfVectorizer(stop_words=stopw, ngram_range=(2,2))"
   ]
  },
  {
   "cell_type": "code",
   "execution_count": null,
   "metadata": {},
   "outputs": [],
   "source": [
    "tfvec.fit_transform(df.Location)"
   ]
  },
  {
   "cell_type": "code",
   "execution_count": null,
   "metadata": {},
   "outputs": [],
   "source": [
    "print(tfvec.vocabulary_)"
   ]
  },
  {
   "cell_type": "code",
   "execution_count": null,
   "metadata": {},
   "outputs": [],
   "source": [
    "fow=tfvec.vocabulary_"
   ]
  },
  {
   "cell_type": "code",
   "execution_count": null,
   "metadata": {},
   "outputs": [],
   "source": [
    "fow=pd.Series(fow)"
   ]
  },
  {
   "cell_type": "code",
   "execution_count": null,
   "metadata": {},
   "outputs": [],
   "source": [
    "fow=pd.DataFrame(fow)"
   ]
  },
  {
   "cell_type": "code",
   "execution_count": null,
   "metadata": {},
   "outputs": [],
   "source": [
    "fow.reset_index(inplace=True)"
   ]
  },
  {
   "cell_type": "code",
   "execution_count": null,
   "metadata": {},
   "outputs": [],
   "source": [
    "fow.columns=['Word','Freq']"
   ]
  },
  {
   "cell_type": "code",
   "execution_count": null,
   "metadata": {},
   "outputs": [],
   "source": [
    "fow=fow.sort_values(by='Freq',ascending=False)"
   ]
  },
  {
   "cell_type": "code",
   "execution_count": null,
   "metadata": {},
   "outputs": [],
   "source": [
    "plt.rcParams['figure.figsize']=30,6\n",
    "sns.barplot(x=fow.Word, y=fow.Freq)\n",
    "plt.xticks(rotation=90)"
   ]
  },
  {
   "cell_type": "code",
   "execution_count": 7,
   "metadata": {},
   "outputs": [],
   "source": [
    "df.drop(labels=['Cuisines','Location'], axis=1, inplace=True)"
   ]
  },
  {
   "cell_type": "code",
   "execution_count": 8,
   "metadata": {},
   "outputs": [
    {
     "name": "stdout",
     "output_type": "stream",
     "text": [
      "<class 'pandas.core.frame.DataFrame'>\n",
      "RangeIndex: 11094 entries, 0 to 11093\n",
      "Data columns (total 6 columns):\n",
      "Average_Cost     11094 non-null object\n",
      "Minimum_Order    11094 non-null object\n",
      "Rating           11094 non-null object\n",
      "Votes            11094 non-null object\n",
      "Reviews          11094 non-null object\n",
      "Delivery_Time    11094 non-null object\n",
      "dtypes: object(6)\n",
      "memory usage: 520.2+ KB\n"
     ]
    }
   ],
   "source": [
    "df.info()"
   ]
  },
  {
   "cell_type": "code",
   "execution_count": 9,
   "metadata": {},
   "outputs": [
    {
     "data": {
      "text/plain": [
       "Index(['Average_Cost', 'Minimum_Order', 'Rating', 'Votes', 'Reviews',\n",
       "       'Delivery_Time'],\n",
       "      dtype='object')"
      ]
     },
     "execution_count": 9,
     "metadata": {},
     "output_type": "execute_result"
    }
   ],
   "source": [
    "df.columns"
   ]
  },
  {
   "cell_type": "code",
   "execution_count": 10,
   "metadata": {},
   "outputs": [],
   "source": [
    "df.Average_Cost=df.Average_Cost.str.replace('₹','')"
   ]
  },
  {
   "cell_type": "code",
   "execution_count": 11,
   "metadata": {},
   "outputs": [],
   "source": [
    "df.Minimum_Order=df.Minimum_Order.str.replace('₹','')"
   ]
  },
  {
   "cell_type": "code",
   "execution_count": 12,
   "metadata": {},
   "outputs": [],
   "source": [
    "df.Delivery_Time=df.Delivery_Time.str.replace('minutes','')"
   ]
  },
  {
   "cell_type": "code",
   "execution_count": 13,
   "metadata": {},
   "outputs": [],
   "source": [
    "df.Minimum_Order=df.Minimum_Order.astype('float')"
   ]
  },
  {
   "cell_type": "code",
   "execution_count": 14,
   "metadata": {},
   "outputs": [],
   "source": [
    "df.Delivery_Time=df.Delivery_Time.astype('float')"
   ]
  },
  {
   "cell_type": "code",
   "execution_count": 15,
   "metadata": {},
   "outputs": [],
   "source": [
    "df.Average_Cost=df.Average_Cost.str.replace(',','')"
   ]
  },
  {
   "cell_type": "code",
   "execution_count": 16,
   "metadata": {},
   "outputs": [],
   "source": [
    "df.Average_Cost=df.Average_Cost.str.replace('for','0')"
   ]
  },
  {
   "cell_type": "code",
   "execution_count": 17,
   "metadata": {},
   "outputs": [],
   "source": [
    "df.Average_Cost=df.Average_Cost.astype('float')"
   ]
  },
  {
   "cell_type": "code",
   "execution_count": 18,
   "metadata": {},
   "outputs": [],
   "source": [
    "df.Average_Cost=df.Average_Cost.astype('float')"
   ]
  },
  {
   "cell_type": "code",
   "execution_count": 19,
   "metadata": {},
   "outputs": [],
   "source": [
    "df.Rating=df.Rating.str.replace('\\D+','0')"
   ]
  },
  {
   "cell_type": "code",
   "execution_count": 20,
   "metadata": {},
   "outputs": [],
   "source": [
    "df.Rating=df.Rating.astype('float')"
   ]
  },
  {
   "cell_type": "code",
   "execution_count": 21,
   "metadata": {},
   "outputs": [],
   "source": [
    "df.Reviews=df.Reviews.str.replace('\\D+','0')"
   ]
  },
  {
   "cell_type": "code",
   "execution_count": 22,
   "metadata": {},
   "outputs": [],
   "source": [
    "df.Reviews=df.Reviews.astype('float')"
   ]
  },
  {
   "cell_type": "code",
   "execution_count": 23,
   "metadata": {},
   "outputs": [],
   "source": [
    "df.Votes=df.Votes.str.replace('\\D+','0')"
   ]
  },
  {
   "cell_type": "code",
   "execution_count": 24,
   "metadata": {},
   "outputs": [],
   "source": [
    "df.Votes=df.Votes.astype('float')"
   ]
  },
  {
   "cell_type": "code",
   "execution_count": 25,
   "metadata": {},
   "outputs": [
    {
     "data": {
      "text/html": [
       "<div>\n",
       "<style scoped>\n",
       "    .dataframe tbody tr th:only-of-type {\n",
       "        vertical-align: middle;\n",
       "    }\n",
       "\n",
       "    .dataframe tbody tr th {\n",
       "        vertical-align: top;\n",
       "    }\n",
       "\n",
       "    .dataframe thead th {\n",
       "        text-align: right;\n",
       "    }\n",
       "</style>\n",
       "<table border=\"1\" class=\"dataframe\">\n",
       "  <thead>\n",
       "    <tr style=\"text-align: right;\">\n",
       "      <th></th>\n",
       "      <th>Average_Cost</th>\n",
       "      <th>Minimum_Order</th>\n",
       "      <th>Rating</th>\n",
       "      <th>Votes</th>\n",
       "      <th>Reviews</th>\n",
       "      <th>Delivery_Time</th>\n",
       "    </tr>\n",
       "  </thead>\n",
       "  <tbody>\n",
       "    <tr>\n",
       "      <th>count</th>\n",
       "      <td>11094.000000</td>\n",
       "      <td>11094.000000</td>\n",
       "      <td>11094.000000</td>\n",
       "      <td>11094.000000</td>\n",
       "      <td>11094.000000</td>\n",
       "      <td>11094.000000</td>\n",
       "    </tr>\n",
       "    <tr>\n",
       "      <th>mean</th>\n",
       "      <td>202.690644</td>\n",
       "      <td>53.344511</td>\n",
       "      <td>263.226519</td>\n",
       "      <td>198.827384</td>\n",
       "      <td>97.562917</td>\n",
       "      <td>37.056066</td>\n",
       "    </tr>\n",
       "    <tr>\n",
       "      <th>std</th>\n",
       "      <td>129.847522</td>\n",
       "      <td>18.551245</td>\n",
       "      <td>129.532419</td>\n",
       "      <td>509.520666</td>\n",
       "      <td>289.972698</td>\n",
       "      <td>12.447496</td>\n",
       "    </tr>\n",
       "    <tr>\n",
       "      <th>min</th>\n",
       "      <td>0.000000</td>\n",
       "      <td>0.000000</td>\n",
       "      <td>0.000000</td>\n",
       "      <td>0.000000</td>\n",
       "      <td>0.000000</td>\n",
       "      <td>10.000000</td>\n",
       "    </tr>\n",
       "    <tr>\n",
       "      <th>25%</th>\n",
       "      <td>100.000000</td>\n",
       "      <td>50.000000</td>\n",
       "      <td>300.000000</td>\n",
       "      <td>7.000000</td>\n",
       "      <td>2.000000</td>\n",
       "      <td>30.000000</td>\n",
       "    </tr>\n",
       "    <tr>\n",
       "      <th>50%</th>\n",
       "      <td>200.000000</td>\n",
       "      <td>50.000000</td>\n",
       "      <td>305.000000</td>\n",
       "      <td>37.000000</td>\n",
       "      <td>14.000000</td>\n",
       "      <td>30.000000</td>\n",
       "    </tr>\n",
       "    <tr>\n",
       "      <th>75%</th>\n",
       "      <td>200.000000</td>\n",
       "      <td>50.000000</td>\n",
       "      <td>308.000000</td>\n",
       "      <td>157.000000</td>\n",
       "      <td>63.000000</td>\n",
       "      <td>45.000000</td>\n",
       "    </tr>\n",
       "    <tr>\n",
       "      <th>max</th>\n",
       "      <td>2050.000000</td>\n",
       "      <td>500.000000</td>\n",
       "      <td>409.000000</td>\n",
       "      <td>9054.000000</td>\n",
       "      <td>6504.000000</td>\n",
       "      <td>120.000000</td>\n",
       "    </tr>\n",
       "  </tbody>\n",
       "</table>\n",
       "</div>"
      ],
      "text/plain": [
       "       Average_Cost  Minimum_Order        Rating         Votes       Reviews  \\\n",
       "count  11094.000000   11094.000000  11094.000000  11094.000000  11094.000000   \n",
       "mean     202.690644      53.344511    263.226519    198.827384     97.562917   \n",
       "std      129.847522      18.551245    129.532419    509.520666    289.972698   \n",
       "min        0.000000       0.000000      0.000000      0.000000      0.000000   \n",
       "25%      100.000000      50.000000    300.000000      7.000000      2.000000   \n",
       "50%      200.000000      50.000000    305.000000     37.000000     14.000000   \n",
       "75%      200.000000      50.000000    308.000000    157.000000     63.000000   \n",
       "max     2050.000000     500.000000    409.000000   9054.000000   6504.000000   \n",
       "\n",
       "       Delivery_Time  \n",
       "count   11094.000000  \n",
       "mean       37.056066  \n",
       "std        12.447496  \n",
       "min        10.000000  \n",
       "25%        30.000000  \n",
       "50%        30.000000  \n",
       "75%        45.000000  \n",
       "max       120.000000  "
      ]
     },
     "execution_count": 25,
     "metadata": {},
     "output_type": "execute_result"
    }
   ],
   "source": [
    "df.describe()"
   ]
  },
  {
   "cell_type": "code",
   "execution_count": 26,
   "metadata": {},
   "outputs": [
    {
     "data": {
      "text/plain": [
       "<matplotlib.axes._subplots.AxesSubplot at 0x2a183ea6448>"
      ]
     },
     "execution_count": 26,
     "metadata": {},
     "output_type": "execute_result"
    },
    {
     "data": {
      "image/png": "[encoded data removed]",
      "text/plain": [
       "<Figure size 432x288 with 1 Axes>"
      ]
     },
     "metadata": {
      "needs_background": "light"
     },
     "output_type": "display_data"
    }
   ],
   "source": [
    "sns.distplot(df.Average_Cost)"
   ]
  },
  {
   "cell_type": "code",
   "execution_count": 27,
   "metadata": {},
   "outputs": [
    {
     "data": {
      "text/plain": [
       "<matplotlib.axes._subplots.AxesSubplot at 0x2a183df4088>"
      ]
     },
     "execution_count": 27,
     "metadata": {},
     "output_type": "execute_result"
    },
    {
     "data": {
      "image/png": "[encoded data removed]",
      "text/plain": [
       "<Figure size 432x288 with 1 Axes>"
      ]
     },
     "metadata": {
      "needs_background": "light"
     },
     "output_type": "display_data"
    }
   ],
   "source": [
    "sns.distplot(df.Minimum_Order)"
   ]
  },
  {
   "cell_type": "code",
   "execution_count": 28,
   "metadata": {},
   "outputs": [
    {
     "data": {
      "text/plain": [
       "<matplotlib.axes._subplots.AxesSubplot at 0x2a183f6cf48>"
      ]
     },
     "execution_count": 28,
     "metadata": {},
     "output_type": "execute_result"
    },
    {
     "data": {
      "image/png": "[encoded data removed]",
      "text/plain": [
       "<Figure size 432x288 with 1 Axes>"
      ]
     },
     "metadata": {
      "needs_background": "light"
     },
     "output_type": "display_data"
    }
   ],
   "source": [
    "sns.distplot(df.Rating)"
   ]
  },
  {
   "cell_type": "code",
   "execution_count": 29,
   "metadata": {},
   "outputs": [
    {
     "data": {
      "text/plain": [
       "<matplotlib.axes._subplots.AxesSubplot at 0x2a184371848>"
      ]
     },
     "execution_count": 29,
     "metadata": {},
     "output_type": "execute_result"
    },
    {
     "data": {
      "image/png": "[encoded data removed]",
      "text/plain": [
       "<Figure size 432x288 with 1 Axes>"
      ]
     },
     "metadata": {
      "needs_background": "light"
     },
     "output_type": "display_data"
    }
   ],
   "source": [
    "sns.distplot(df.Reviews)"
   ]
  },
  {
   "cell_type": "code",
   "execution_count": 30,
   "metadata": {},
   "outputs": [
    {
     "data": {
      "text/plain": [
       "<matplotlib.axes._subplots.AxesSubplot at 0x2a184468048>"
      ]
     },
     "execution_count": 30,
     "metadata": {},
     "output_type": "execute_result"
    },
    {
     "data": {
      "image/png": "[encoded data removed]",
      "text/plain": [
       "<Figure size 432x288 with 1 Axes>"
      ]
     },
     "metadata": {
      "needs_background": "light"
     },
     "output_type": "display_data"
    }
   ],
   "source": [
    "sns.distplot(df.Votes)"
   ]
  },
  {
   "cell_type": "code",
   "execution_count": 31,
   "metadata": {},
   "outputs": [
    {
     "data": {
      "text/plain": [
       "<matplotlib.axes._subplots.AxesSubplot at 0x2a184569f48>"
      ]
     },
     "execution_count": 31,
     "metadata": {},
     "output_type": "execute_result"
    },
    {
     "data": {
      "image/png": "[encoded data removed]",
      "text/plain": [
       "<Figure size 432x288 with 1 Axes>"
      ]
     },
     "metadata": {
      "needs_background": "light"
     },
     "output_type": "display_data"
    }
   ],
   "source": [
    "sns.distplot(df.Delivery_Time)"
   ]
  },
  {
   "cell_type": "code",
   "execution_count": 32,
   "metadata": {},
   "outputs": [],
   "source": [
    "from sklearn.model_selection import train_test_split, GridSearchCV, cross_val_score"
   ]
  },
  {
   "cell_type": "code",
   "execution_count": 33,
   "metadata": {},
   "outputs": [
    {
     "name": "stderr",
     "output_type": "stream",
     "text": [
      "Using TensorFlow backend.\n"
     ]
    }
   ],
   "source": [
    "import keras"
   ]
  },
  {
   "cell_type": "code",
   "execution_count": 34,
   "metadata": {},
   "outputs": [],
   "source": [
    "from keras.models import Sequential\n",
    "from keras.layers import Dense, Dropout"
   ]
  },
  {
   "cell_type": "code",
   "execution_count": 35,
   "metadata": {},
   "outputs": [],
   "source": [
    "from sklearn.preprocessing import StandardScaler"
   ]
  },
  {
   "cell_type": "code",
   "execution_count": 36,
   "metadata": {},
   "outputs": [],
   "source": [
    "from keras.wrappers.scikit_learn import KerasRegressor"
   ]
  },
  {
   "cell_type": "code",
   "execution_count": 37,
   "metadata": {},
   "outputs": [],
   "source": [
    "regressor=Sequential()"
   ]
  },
  {
   "cell_type": "code",
   "execution_count": 38,
   "metadata": {},
   "outputs": [],
   "source": [
    "regressor.add(Dense(units=3, activation='relu', kernel_initializer='normal',input_dim=5))"
   ]
  },
  {
   "cell_type": "code",
   "execution_count": 39,
   "metadata": {},
   "outputs": [],
   "source": [
    "regressor.add(Dense(units=3, activation='relu', kernel_initializer='normal'))"
   ]
  },
  {
   "cell_type": "code",
   "execution_count": 40,
   "metadata": {},
   "outputs": [],
   "source": [
    "regressor.add(Dense(units=1, activation='linear', kernel_initializer='normal'))"
   ]
  },
  {
   "cell_type": "code",
   "execution_count": 41,
   "metadata": {},
   "outputs": [],
   "source": [
    "regressor.compile(optimizer='Adamax', loss='mse', metrics=['mse','mae'])"
   ]
  },
  {
   "cell_type": "code",
   "execution_count": 42,
   "metadata": {},
   "outputs": [],
   "source": [
    "X=df.loc[:,['Average_Cost', 'Minimum_Order', 'Rating', 'Votes', 'Reviews']]\n",
    "y=df.loc[:,'Delivery_Time']"
   ]
  },
  {
   "cell_type": "code",
   "execution_count": 43,
   "metadata": {},
   "outputs": [],
   "source": [
    "X_train, X_test, y_train, y_test = train_test_split(X, y, test_size=0.3)"
   ]
  },
  {
   "cell_type": "code",
   "execution_count": 44,
   "metadata": {},
   "outputs": [],
   "source": [
    "skl_x=StandardScaler()\n",
    "skl_new=StandardScaler()"
   ]
  },
  {
   "cell_type": "code",
   "execution_count": 45,
   "metadata": {},
   "outputs": [],
   "source": [
    "X_train_skl=skl_x.fit_transform(X_train)\n",
    "X_test_skl=skl_x.transform(X_test)"
   ]
  },
  {
   "cell_type": "code",
   "execution_count": 46,
   "metadata": {},
   "outputs": [],
   "source": [
    "X_train_skl=pd.DataFrame(X_train_skl, columns=X.columns)\n",
    "X_test_skl=pd.DataFrame(X_test_skl, columns=X.columns)"
   ]
  },
  {
   "cell_type": "code",
   "execution_count": 47,
   "metadata": {
    "scrolled": true
   },
   "outputs": [
    {
     "name": "stdout",
     "output_type": "stream",
     "text": [
      "Epoch 1/100\n",
      "7765/7765 [==============================] - 1s 106us/step - loss: 1493.9994 - mse: 1493.9994 - mae: 36.6358\n",
      "Epoch 2/100\n",
      "7765/7765 [==============================] - 0s 38us/step - loss: 1309.2562 - mse: 1309.2563 - mae: 34.0851\n",
      "Epoch 3/100\n",
      "7765/7765 [==============================] - 0s 39us/step - loss: 873.2621 - mse: 873.2619 - mae: 26.8315\n",
      "Epoch 4/100\n",
      "7765/7765 [==============================] - 0s 40us/step - loss: 411.1602 - mse: 411.1602 - mae: 15.9282\n",
      "Epoch 5/100\n",
      "7765/7765 [==============================] - 0s 51us/step - loss: 273.3662 - mse: 273.3662 - mae: 11.8212 0s - loss: 275.8461 - mse: 275.8461 - mae: 11.85\n",
      "Epoch 6/100\n",
      "7765/7765 [==============================] - 0s 43us/step - loss: 242.2224 - mse: 242.2222 - mae: 11.7457 0s - loss: 248.2478 - mse: 248.2478 - \n",
      "Epoch 7/100\n",
      "7765/7765 [==============================] - 0s 38us/step - loss: 224.7985 - mse: 224.7985 - mae: 11.5929 0s - loss: 245.7867 - mse: 245.7868 - mae:\n",
      "Epoch 8/100\n",
      "7765/7765 [==============================] - 0s 35us/step - loss: 193.4139 - mse: 193.4140 - mae: 10.8350\n",
      "Epoch 9/100\n",
      "7765/7765 [==============================] - 0s 34us/step - loss: 160.9930 - mse: 160.9930 - mae: 9.8487\n",
      "Epoch 10/100\n",
      "7765/7765 [==============================] - 0s 39us/step - loss: 143.1459 - mse: 143.1459 - mae: 8.9178\n",
      "Epoch 11/100\n",
      "7765/7765 [==============================] - 0s 37us/step - loss: 136.4604 - mse: 136.4604 - mae: 8.2861\n",
      "Epoch 12/100\n",
      "7765/7765 [==============================] - 0s 37us/step - loss: 134.4452 - mse: 134.4452 - mae: 8.0629\n",
      "Epoch 13/100\n",
      "7765/7765 [==============================] - 0s 33us/step - loss: 133.9817 - mse: 133.9818 - mae: 8.1557\n",
      "Epoch 14/100\n",
      "7765/7765 [==============================] - 0s 33us/step - loss: 133.9185 - mse: 133.9185 - mae: 8.1192: 0s - loss: 132.4143 - mse: 132.4143 - mae: 8.05\n",
      "Epoch 15/100\n",
      "7765/7765 [==============================] - 0s 32us/step - loss: 133.8577 - mse: 133.8577 - mae: 8.1437\n",
      "Epoch 16/100\n",
      "7765/7765 [==============================] - 0s 32us/step - loss: 133.8073 - mse: 133.8073 - mae: 8.1471\n",
      "Epoch 17/100\n",
      "7765/7765 [==============================] - 0s 32us/step - loss: 133.6514 - mse: 133.6514 - mae: 8.1661\n",
      "Epoch 18/100\n",
      "7765/7765 [==============================] - 0s 32us/step - loss: 133.7773 - mse: 133.7773 - mae: 8.1319\n",
      "Epoch 19/100\n",
      "7765/7765 [==============================] - 0s 31us/step - loss: 133.7502 - mse: 133.7502 - mae: 8.1444\n",
      "Epoch 20/100\n",
      "7765/7765 [==============================] - ETA: 0s - loss: 133.7673 - mse: 133.7672 - mae: 8.111 - 0s 30us/step - loss: 133.6354 - mse: 133.6354 - mae: 8.1338\n",
      "Epoch 21/100\n",
      "7765/7765 [==============================] - 0s 30us/step - loss: 133.6445 - mse: 133.6445 - mae: 8.1373\n",
      "Epoch 22/100\n",
      "7765/7765 [==============================] - 0s 31us/step - loss: 133.6359 - mse: 133.6359 - mae: 8.1349\n",
      "Epoch 23/100\n",
      "7765/7765 [==============================] - 0s 32us/step - loss: 133.6146 - mse: 133.6146 - mae: 8.1846\n",
      "Epoch 24/100\n",
      "7765/7765 [==============================] - 0s 34us/step - loss: 133.5301 - mse: 133.5301 - mae: 8.1021\n",
      "Epoch 25/100\n",
      "7765/7765 [==============================] - 0s 33us/step - loss: 133.5328 - mse: 133.5328 - mae: 8.1416\n",
      "Epoch 26/100\n",
      "7765/7765 [==============================] - 0s 32us/step - loss: 133.5125 - mse: 133.5125 - mae: 8.1249\n",
      "Epoch 27/100\n",
      "7765/7765 [==============================] - 0s 32us/step - loss: 133.4380 - mse: 133.4380 - mae: 8.1458\n",
      "Epoch 28/100\n",
      "7765/7765 [==============================] - 0s 32us/step - loss: 133.4599 - mse: 133.4599 - mae: 8.1499: 0s - loss: 140.7336 - mse: 140.7336 - mae: 8.28\n",
      "Epoch 29/100\n",
      "7765/7765 [==============================] - 0s 32us/step - loss: 133.4555 - mse: 133.4555 - mae: 8.1392\n",
      "Epoch 30/100\n",
      "7765/7765 [==============================] - 0s 33us/step - loss: 133.4078 - mse: 133.4077 - mae: 8.1085: 0s - loss: 143.2122 - mse: 143.2122 - mae: 8.24\n",
      "Epoch 31/100\n",
      "7765/7765 [==============================] - 0s 35us/step - loss: 133.4163 - mse: 133.4163 - mae: 8.1312\n",
      "Epoch 32/100\n",
      "7765/7765 [==============================] - 0s 34us/step - loss: 133.3798 - mse: 133.3799 - mae: 8.1398\n",
      "Epoch 33/100\n",
      "7765/7765 [==============================] - 0s 31us/step - loss: 133.3470 - mse: 133.3470 - mae: 8.1248\n",
      "Epoch 34/100\n",
      "7765/7765 [==============================] - 0s 31us/step - loss: 133.3153 - mse: 133.3153 - mae: 8.12010s - loss: 115.7363 - mse: 115.7363 - mae: 7.7 - ETA: 0s - loss: 134.9939 - mse: 134.9938 - mae: 8.160\n",
      "Epoch 35/100\n",
      "7765/7765 [==============================] - 0s 31us/step - loss: 133.3308 - mse: 133.3309 - mae: 8.1195\n",
      "Epoch 36/100\n",
      "7765/7765 [==============================] - 0s 31us/step - loss: 133.2760 - mse: 133.2760 - mae: 8.0897: 0s - loss: 135.7580 - mse: 135.7580 - mae: 8.06\n",
      "Epoch 37/100\n",
      "7765/7765 [==============================] - 0s 31us/step - loss: 133.2928 - mse: 133.2928 - mae: 8.1312\n",
      "Epoch 38/100\n",
      "7765/7765 [==============================] - 0s 32us/step - loss: 133.2642 - mse: 133.2643 - mae: 8.1607: 0s - loss: 135.5215 - mse: 135.5215 - mae: 8.2\n",
      "Epoch 39/100\n",
      "7765/7765 [==============================] - 0s 35us/step - loss: 133.2615 - mse: 133.2614 - mae: 8.0846\n",
      "Epoch 40/100\n",
      "7765/7765 [==============================] - 0s 34us/step - loss: 133.2755 - mse: 133.2755 - mae: 8.1434\n",
      "Epoch 41/100\n",
      "7765/7765 [==============================] - 0s 33us/step - loss: 133.1967 - mse: 133.1967 - mae: 8.1286\n",
      "Epoch 42/100\n",
      "7765/7765 [==============================] - 0s 34us/step - loss: 133.2490 - mse: 133.2489 - mae: 8.1100\n",
      "Epoch 43/100\n",
      "7765/7765 [==============================] - 0s 34us/step - loss: 133.1896 - mse: 133.1896 - mae: 8.1025\n",
      "Epoch 44/100\n",
      "7765/7765 [==============================] - 0s 35us/step - loss: 133.1731 - mse: 133.1731 - mae: 8.1308\n",
      "Epoch 45/100\n",
      "7765/7765 [==============================] - 0s 33us/step - loss: 133.1636 - mse: 133.1636 - mae: 8.0802\n",
      "Epoch 46/100\n",
      "7765/7765 [==============================] - 0s 34us/step - loss: 133.1099 - mse: 133.1099 - mae: 8.1358\n",
      "Epoch 47/100\n",
      "7765/7765 [==============================] - 0s 33us/step - loss: 133.1965 - mse: 133.1965 - mae: 8.0982\n",
      "Epoch 48/100\n",
      "7765/7765 [==============================] - 0s 33us/step - loss: 133.1689 - mse: 133.1689 - mae: 8.1240\n",
      "Epoch 49/100\n",
      "7765/7765 [==============================] - 0s 33us/step - loss: 133.1325 - mse: 133.1326 - mae: 8.0824\n",
      "Epoch 50/100\n",
      "7765/7765 [==============================] - 0s 34us/step - loss: 133.1290 - mse: 133.1290 - mae: 8.1312: 0s - loss: 129.9718 - mse: 129.9718 - mae: 8.1\n",
      "Epoch 51/100\n",
      "7765/7765 [==============================] - 0s 33us/step - loss: 133.0776 - mse: 133.0776 - mae: 8.1061\n",
      "Epoch 52/100\n",
      "7765/7765 [==============================] - 0s 33us/step - loss: 133.1010 - mse: 133.1010 - mae: 8.1083\n",
      "Epoch 53/100\n",
      "7765/7765 [==============================] - 0s 33us/step - loss: 133.1284 - mse: 133.1284 - mae: 8.1012\n",
      "Epoch 54/100\n",
      "7765/7765 [==============================] - 0s 33us/step - loss: 133.0299 - mse: 133.0300 - mae: 8.1350\n",
      "Epoch 55/100\n",
      "7765/7765 [==============================] - 0s 32us/step - loss: 133.0838 - mse: 133.0837 - mae: 8.0977\n",
      "Epoch 56/100\n",
      "7765/7765 [==============================] - 0s 33us/step - loss: 133.0637 - mse: 133.0638 - mae: 8.1138\n",
      "Epoch 57/100\n",
      "7765/7765 [==============================] - 0s 33us/step - loss: 133.0583 - mse: 133.0582 - mae: 8.0854\n",
      "Epoch 58/100\n",
      "7765/7765 [==============================] - ETA: 0s - loss: 136.1160 - mse: 136.1160 - mae: 8.163 - 0s 33us/step - loss: 133.0652 - mse: 133.0652 - mae: 8.1161\n",
      "Epoch 59/100\n",
      "7765/7765 [==============================] - 0s 33us/step - loss: 132.9799 - mse: 132.9800 - mae: 8.1119\n",
      "Epoch 60/100\n",
      "7765/7765 [==============================] - 0s 33us/step - loss: 133.0724 - mse: 133.0724 - mae: 8.0867\n",
      "Epoch 61/100\n",
      "7765/7765 [==============================] - 0s 34us/step - loss: 133.0060 - mse: 133.0060 - mae: 8.1205\n",
      "Epoch 62/100\n",
      "7765/7765 [==============================] - 0s 34us/step - loss: 133.0267 - mse: 133.0267 - mae: 8.1121\n",
      "Epoch 63/100\n",
      "7765/7765 [==============================] - 0s 35us/step - loss: 132.9806 - mse: 132.9805 - mae: 8.1260\n",
      "Epoch 64/100\n",
      "7765/7765 [==============================] - 0s 34us/step - loss: 132.9946 - mse: 132.9946 - mae: 8.0545\n"
     ]
    },
    {
     "name": "stdout",
     "output_type": "stream",
     "text": [
      "Epoch 65/100\n",
      "7765/7765 [==============================] - 0s 34us/step - loss: 133.0349 - mse: 133.0349 - mae: 8.0984\n",
      "Epoch 66/100\n",
      "7765/7765 [==============================] - 0s 31us/step - loss: 133.0307 - mse: 133.0307 - mae: 8.1219\n",
      "Epoch 67/100\n",
      "7765/7765 [==============================] - 0s 32us/step - loss: 132.9791 - mse: 132.9791 - mae: 8.0976: 0s - loss: 131.5113 - mse: 131.5114 - mae: 8.064\n",
      "Epoch 68/100\n",
      "7765/7765 [==============================] - ETA: 0s - loss: 132.0325 - mse: 132.0325 - mae: 8.119 - 0s 32us/step - loss: 132.9999 - mse: 132.9999 - mae: 8.1173\n",
      "Epoch 69/100\n",
      "7765/7765 [==============================] - 0s 32us/step - loss: 132.9061 - mse: 132.9061 - mae: 8.0388: 0s - loss: 126.1577 - mse: 126.1577 - mae: 7.76\n",
      "Epoch 70/100\n",
      "7765/7765 [==============================] - 0s 32us/step - loss: 132.9818 - mse: 132.9818 - mae: 8.1448\n",
      "Epoch 71/100\n",
      "7765/7765 [==============================] - 0s 32us/step - loss: 132.9973 - mse: 132.9973 - mae: 8.0693\n",
      "Epoch 72/100\n",
      "7765/7765 [==============================] - 0s 32us/step - loss: 132.9624 - mse: 132.9624 - mae: 8.1104\n",
      "Epoch 73/100\n",
      "7765/7765 [==============================] - 0s 32us/step - loss: 132.9780 - mse: 132.9780 - mae: 8.0966: 0s - loss: 137.8924 - mse: 137.8924 - mae: 8.\n",
      "Epoch 74/100\n",
      "7765/7765 [==============================] - 0s 32us/step - loss: 132.9499 - mse: 132.9499 - mae: 8.0877\n",
      "Epoch 75/100\n",
      "7765/7765 [==============================] - 0s 32us/step - loss: 132.8898 - mse: 132.8899 - mae: 8.1160\n",
      "Epoch 76/100\n",
      "7765/7765 [==============================] - 0s 32us/step - loss: 132.9360 - mse: 132.9360 - mae: 8.0656: 0s - loss: 133.6540 - mse: 133.6540 - mae: 7.8\n",
      "Epoch 77/100\n",
      "7765/7765 [==============================] - 0s 32us/step - loss: 132.8988 - mse: 132.8988 - mae: 8.0673\n",
      "Epoch 78/100\n",
      "7765/7765 [==============================] - 0s 32us/step - loss: 132.9718 - mse: 132.9718 - mae: 8.1238\n",
      "Epoch 79/100\n",
      "7765/7765 [==============================] - 0s 32us/step - loss: 132.8932 - mse: 132.8932 - mae: 8.1049\n",
      "Epoch 80/100\n",
      "7765/7765 [==============================] - 0s 32us/step - loss: 132.9779 - mse: 132.9779 - mae: 8.0687\n",
      "Epoch 81/100\n",
      "7765/7765 [==============================] - 0s 32us/step - loss: 132.9325 - mse: 132.9325 - mae: 8.1016\n",
      "Epoch 82/100\n",
      "7765/7765 [==============================] - 0s 33us/step - loss: 132.9666 - mse: 132.9666 - mae: 8.0902\n",
      "Epoch 83/100\n",
      "7765/7765 [==============================] - 0s 35us/step - loss: 132.9359 - mse: 132.9359 - mae: 8.1033\n",
      "Epoch 84/100\n",
      "7765/7765 [==============================] - 0s 34us/step - loss: 132.8536 - mse: 132.8536 - mae: 8.0741\n",
      "Epoch 85/100\n",
      "7765/7765 [==============================] - 0s 34us/step - loss: 132.9745 - mse: 132.9745 - mae: 8.1064\n",
      "Epoch 86/100\n",
      "7765/7765 [==============================] - 0s 35us/step - loss: 132.8981 - mse: 132.8981 - mae: 8.0796\n",
      "Epoch 87/100\n",
      "7765/7765 [==============================] - 0s 35us/step - loss: 132.8972 - mse: 132.8972 - mae: 8.0934\n",
      "Epoch 88/100\n",
      "7765/7765 [==============================] - 0s 33us/step - loss: 132.8961 - mse: 132.8961 - mae: 8.1093\n",
      "Epoch 89/100\n",
      "7765/7765 [==============================] - 0s 31us/step - loss: 132.8870 - mse: 132.8870 - mae: 8.0804\n",
      "Epoch 90/100\n",
      "7765/7765 [==============================] - 0s 31us/step - loss: 132.9363 - mse: 132.9363 - mae: 8.0850\n",
      "Epoch 91/100\n",
      "7765/7765 [==============================] - 0s 34us/step - loss: 132.9250 - mse: 132.9251 - mae: 8.0899\n",
      "Epoch 92/100\n",
      "7765/7765 [==============================] - 0s 35us/step - loss: 132.8965 - mse: 132.8965 - mae: 8.0867\n",
      "Epoch 93/100\n",
      "7765/7765 [==============================] - 0s 32us/step - loss: 132.9059 - mse: 132.9059 - mae: 8.0838\n",
      "Epoch 94/100\n",
      "7765/7765 [==============================] - 0s 37us/step - loss: 132.8971 - mse: 132.8971 - mae: 8.07720s - loss: 140.3124 - mse: 140.3124 - mae: 8\n",
      "Epoch 95/100\n",
      "7765/7765 [==============================] - 0s 35us/step - loss: 132.8986 - mse: 132.8985 - mae: 8.0762\n",
      "Epoch 96/100\n",
      "7765/7765 [==============================] - 0s 37us/step - loss: 132.8607 - mse: 132.8607 - mae: 8.1089\n",
      "Epoch 97/100\n",
      "7765/7765 [==============================] - 0s 36us/step - loss: 132.9154 - mse: 132.9154 - mae: 8.0932\n",
      "Epoch 98/100\n",
      "7765/7765 [==============================] - 0s 35us/step - loss: 132.8868 - mse: 132.8868 - mae: 8.0776\n",
      "Epoch 99/100\n",
      "7765/7765 [==============================] - 0s 35us/step - loss: 132.8729 - mse: 132.8729 - mae: 8.0842\n",
      "Epoch 100/100\n",
      "7765/7765 [==============================] - 0s 36us/step - loss: 132.8884 - mse: 132.8884 - mae: 8.0905\n"
     ]
    },
    {
     "data": {
      "text/plain": [
       "<keras.callbacks.callbacks.History at 0x2a18b2dae88>"
      ]
     },
     "execution_count": 47,
     "metadata": {},
     "output_type": "execute_result"
    }
   ],
   "source": [
    "regressor.fit(X_train_skl, y_train, epochs=100, batch_size=32)"
   ]
  },
  {
   "cell_type": "code",
   "execution_count": 48,
   "metadata": {},
   "outputs": [],
   "source": [
    "predicted_time=regressor.predict(X_test_skl)"
   ]
  },
  {
   "cell_type": "code",
   "execution_count": 49,
   "metadata": {},
   "outputs": [],
   "source": [
    "from sklearn.metrics import mean_squared_error, mean_absolute_error"
   ]
  },
  {
   "cell_type": "code",
   "execution_count": 50,
   "metadata": {},
   "outputs": [
    {
     "name": "stdout",
     "output_type": "stream",
     "text": [
      "Mean Squared Error is 11.76\n",
      "Mean Abs Error is 8.18\n"
     ]
    }
   ],
   "source": [
    "print(f'Mean Squared Error is {np.sqrt(mean_squared_error(y_test, predicted_time)) :.2f}')\n",
    "print(f'Mean Abs Error is {mean_absolute_error(y_test, predicted_time) :.2f}')"
   ]
  },
  {
   "cell_type": "code",
   "execution_count": 51,
   "metadata": {},
   "outputs": [],
   "source": [
    "def build_reg():\n",
    "    regressor=Sequential()\n",
    "    regressor.add(Dense(units=3, activation='relu', kernel_initializer='normal',input_dim=5))\n",
    "    regressor.add(Dense(units=3, activation='relu', kernel_initializer='normal'))\n",
    "    regressor.add(Dense(units=1, activation='linear', kernel_initializer='normal'))\n",
    "    regressor.compile(optimizer='Adamax', loss='mse', metrics=['mse','mae'])\n",
    "    return regressor"
   ]
  },
  {
   "cell_type": "code",
   "execution_count": 52,
   "metadata": {},
   "outputs": [],
   "source": [
    "ann_reg=KerasRegressor(build_fn=build_reg, epochs=100, batch_size=32)"
   ]
  },
  {
   "cell_type": "code",
   "execution_count": 53,
   "metadata": {},
   "outputs": [
    {
     "name": "stderr",
     "output_type": "stream",
     "text": [
      "[Parallel(n_jobs=4)]: Using backend LokyBackend with 4 concurrent workers.\n",
      "[Parallel(n_jobs=4)]: Done  10 out of  10 | elapsed:  1.9min finished\n"
     ]
    }
   ],
   "source": [
    "msq=cross_val_score(estimator=ann_reg, X=X_train_skl, y=y_train,cv=10, verbose=1, n_jobs=4, scoring='neg_mean_squared_error')"
   ]
  },
  {
   "cell_type": "code",
   "execution_count": 54,
   "metadata": {},
   "outputs": [
    {
     "name": "stdout",
     "output_type": "stream",
     "text": [
      "Train CV RMSE  11.69\n"
     ]
    }
   ],
   "source": [
    "print(f'Train CV RMSE {np.sqrt(np.mean(np.abs(msq))): .2f}')"
   ]
  },
  {
   "cell_type": "code",
   "execution_count": 55,
   "metadata": {},
   "outputs": [],
   "source": [
    "def build_reg(optimizer):\n",
    "    regressor=Sequential()\n",
    "    regressor.add(Dense(units=3, activation='relu', kernel_initializer='normal',input_dim=5))\n",
    "    regressor.add(Dropout(rate=0.6))\n",
    "    regressor.add(Dense(units=3, activation='relu', kernel_initializer='normal'))\n",
    "    regressor.add(Dropout(rate=0.6))\n",
    "    regressor.add(Dense(units=1, activation='linear', kernel_initializer='normal'))\n",
    "    regressor.compile(optimizer=optimizer, loss='mse', metrics=['mse','mae'])\n",
    "    return regressor"
   ]
  },
  {
   "cell_type": "code",
   "execution_count": 56,
   "metadata": {},
   "outputs": [],
   "source": [
    "ann_reg=KerasRegressor(build_fn=build_reg)"
   ]
  },
  {
   "cell_type": "code",
   "execution_count": 57,
   "metadata": {},
   "outputs": [],
   "source": [
    "param={'epochs':[100,500], 'batch_size':[32,64], 'optimizer':['Adamax','rmsprop']}"
   ]
  },
  {
   "cell_type": "code",
   "execution_count": 58,
   "metadata": {},
   "outputs": [],
   "source": [
    "gd_cv_ann=GridSearchCV(estimator=ann_reg, param_grid=param, n_jobs=4, cv=10,\n",
    "                       scoring='neg_mean_squared_error', return_train_score=True)"
   ]
  },
  {
   "cell_type": "code",
   "execution_count": 59,
   "metadata": {},
   "outputs": [
    {
     "name": "stderr",
     "output_type": "stream",
     "text": [
      "C:\\Users\\bishw\\Anaconda3\\lib\\site-packages\\joblib\\externals\\loky\\process_executor.py:706: UserWarning: A worker stopped while some jobs were given to the executor. This can be caused by a too short worker timeout or by a memory leak.\n",
      "  \"timeout or by a memory leak.\", UserWarning\n"
     ]
    },
    {
     "name": "stdout",
     "output_type": "stream",
     "text": [
      "WARNING:tensorflow:Large dropout rate: 0.6 (>0.5). In TensorFlow 2.x, dropout() uses dropout rate instead of keep_prob. Please ensure that this is intended.\n",
      "WARNING:tensorflow:Large dropout rate: 0.6 (>0.5). In TensorFlow 2.x, dropout() uses dropout rate instead of keep_prob. Please ensure that this is intended.\n",
      "Epoch 1/500\n",
      "7765/7765 [==============================] - 0s 43us/step - loss: 1510.6802 - mse: 1510.6802 - mae: 36.8554\n",
      "Epoch 2/500\n",
      "7765/7765 [==============================] - 0s 27us/step - loss: 1466.7920 - mse: 1466.7920 - mae: 36.2373 0s - loss: 1465.6500 - mse: 1465.6498 - mae: 3\n",
      "Epoch 3/500\n",
      "7765/7765 [==============================] - 0s 27us/step - loss: 1370.2612 - mse: 1370.2614 - mae: 34.7405\n",
      "Epoch 4/500\n",
      "7765/7765 [==============================] - 0s 27us/step - loss: 1205.6903 - mse: 1205.6904 - mae: 31.7202\n",
      "Epoch 5/500\n",
      "7765/7765 [==============================] - 0s 27us/step - loss: 1054.2422 - mse: 1054.2421 - mae: 28.4944\n",
      "Epoch 6/500\n",
      "7765/7765 [==============================] - 0s 27us/step - loss: 970.3369 - mse: 970.3369 - mae: 26.8512\n",
      "Epoch 7/500\n",
      "7765/7765 [==============================] - 0s 26us/step - loss: 918.6427 - mse: 918.6426 - mae: 25.8269\n",
      "Epoch 8/500\n",
      "7765/7765 [==============================] - 0s 27us/step - loss: 889.5863 - mse: 889.5864 - mae: 25.2246\n",
      "Epoch 9/500\n",
      "7765/7765 [==============================] - 0s 27us/step - loss: 855.8954 - mse: 855.8953 - mae: 24.6166\n",
      "Epoch 10/500\n",
      "7765/7765 [==============================] - 0s 27us/step - loss: 808.9078 - mse: 808.9080 - mae: 23.7575\n",
      "Epoch 11/500\n",
      "7765/7765 [==============================] - 0s 26us/step - loss: 801.5366 - mse: 801.5365 - mae: 23.5523\n",
      "Epoch 12/500\n",
      "7765/7765 [==============================] - 0s 27us/step - loss: 761.0892 - mse: 761.0893 - mae: 22.8117\n",
      "Epoch 13/500\n",
      "7765/7765 [==============================] - 0s 27us/step - loss: 731.1742 - mse: 731.1741 - mae: 22.1895\n",
      "Epoch 14/500\n",
      "7765/7765 [==============================] - 0s 58us/step - loss: 709.0419 - mse: 709.0420 - mae: 21.5958\n",
      "Epoch 15/500\n",
      "7765/7765 [==============================] - 0s 40us/step - loss: 677.1448 - mse: 677.1447 - mae: 20.8743\n",
      "Epoch 16/500\n",
      "7765/7765 [==============================] - 0s 34us/step - loss: 675.8242 - mse: 675.8242 - mae: 20.7875\n",
      "Epoch 17/500\n",
      "7765/7765 [==============================] - 0s 32us/step - loss: 646.9679 - mse: 646.9681 - mae: 20.2530\n",
      "Epoch 18/500\n",
      "7765/7765 [==============================] - 0s 33us/step - loss: 625.4577 - mse: 625.4576 - mae: 19.6936\n",
      "Epoch 19/500\n",
      "7765/7765 [==============================] - 0s 35us/step - loss: 635.4333 - mse: 635.4333 - mae: 19.9184\n",
      "Epoch 20/500\n",
      "7765/7765 [==============================] - 0s 33us/step - loss: 613.6858 - mse: 613.6861 - mae: 19.5296\n",
      "Epoch 21/500\n",
      "7765/7765 [==============================] - 0s 35us/step - loss: 611.3518 - mse: 611.3518 - mae: 19.2806\n",
      "Epoch 22/500\n",
      "7765/7765 [==============================] - 0s 47us/step - loss: 581.1916 - mse: 581.1917 - mae: 18.7529\n",
      "Epoch 23/500\n",
      "7765/7765 [==============================] - 1s 111us/step - loss: 580.3967 - mse: 580.3966 - mae: 18.7721\n",
      "Epoch 24/500\n",
      "7765/7765 [==============================] - 1s 87us/step - loss: 569.9934 - mse: 569.9933 - mae: 18.6169\n",
      "Epoch 25/500\n",
      "7765/7765 [==============================] - 1s 104us/step - loss: 568.0137 - mse: 568.0134 - mae: 18.4247\n",
      "Epoch 26/500\n",
      "7765/7765 [==============================] - 0s 59us/step - loss: 557.4194 - mse: 557.4197 - mae: 18.0426\n",
      "Epoch 27/500\n",
      "7765/7765 [==============================] - 0s 61us/step - loss: 540.8848 - mse: 540.8846 - mae: 17.7931\n",
      "Epoch 28/500\n",
      "7765/7765 [==============================] - 0s 52us/step - loss: 549.7977 - mse: 549.7975 - mae: 17.9138\n",
      "Epoch 29/500\n",
      "7765/7765 [==============================] - 0s 51us/step - loss: 549.5985 - mse: 549.5984 - mae: 17.9133\n",
      "Epoch 30/500\n",
      "7765/7765 [==============================] - 0s 34us/step - loss: 532.5418 - mse: 532.5417 - mae: 17.5671\n",
      "Epoch 31/500\n",
      "7765/7765 [==============================] - 0s 28us/step - loss: 533.6550 - mse: 533.6552 - mae: 17.5094\n",
      "Epoch 32/500\n",
      "7765/7765 [==============================] - 0s 27us/step - loss: 522.2583 - mse: 522.2585 - mae: 17.3509\n",
      "Epoch 33/500\n",
      "7765/7765 [==============================] - 0s 26us/step - loss: 517.2092 - mse: 517.2093 - mae: 17.2012\n",
      "Epoch 34/500\n",
      "7765/7765 [==============================] - 0s 27us/step - loss: 510.6797 - mse: 510.6796 - mae: 17.1622\n",
      "Epoch 35/500\n",
      "7765/7765 [==============================] - 0s 27us/step - loss: 494.6883 - mse: 494.6883 - mae: 16.8479\n",
      "Epoch 36/500\n",
      "7765/7765 [==============================] - 0s 27us/step - loss: 498.3571 - mse: 498.3568 - mae: 16.7815\n",
      "Epoch 37/500\n",
      "7765/7765 [==============================] - 0s 27us/step - loss: 502.6569 - mse: 502.6568 - mae: 16.9520\n",
      "Epoch 38/500\n",
      "7765/7765 [==============================] - 0s 27us/step - loss: 486.4095 - mse: 486.4095 - mae: 16.5401\n",
      "Epoch 39/500\n",
      "7765/7765 [==============================] - 0s 28us/step - loss: 476.7187 - mse: 476.7188 - mae: 16.3336\n",
      "Epoch 40/500\n",
      "7765/7765 [==============================] - 0s 27us/step - loss: 471.3991 - mse: 471.3991 - mae: 16.1137\n",
      "Epoch 41/500\n",
      "7765/7765 [==============================] - 0s 29us/step - loss: 466.1086 - mse: 466.1085 - mae: 16.1107\n",
      "Epoch 42/500\n",
      "7765/7765 [==============================] - 0s 28us/step - loss: 462.4949 - mse: 462.4948 - mae: 15.9445\n",
      "Epoch 43/500\n",
      "7765/7765 [==============================] - 0s 27us/step - loss: 460.3758 - mse: 460.3759 - mae: 15.8940\n",
      "Epoch 44/500\n",
      "7765/7765 [==============================] - 0s 27us/step - loss: 460.7352 - mse: 460.7351 - mae: 15.7994\n",
      "Epoch 45/500\n",
      "7765/7765 [==============================] - 0s 27us/step - loss: 446.4788 - mse: 446.4788 - mae: 15.7637\n",
      "Epoch 46/500\n",
      "7765/7765 [==============================] - 0s 27us/step - loss: 441.5257 - mse: 441.5255 - mae: 15.4966\n",
      "Epoch 47/500\n",
      "7765/7765 [==============================] - 0s 26us/step - loss: 440.6694 - mse: 440.6694 - mae: 15.4234\n",
      "Epoch 48/500\n",
      "7765/7765 [==============================] - 0s 27us/step - loss: 433.8479 - mse: 433.8478 - mae: 15.3170\n",
      "Epoch 49/500\n",
      "7765/7765 [==============================] - 0s 30us/step - loss: 429.7611 - mse: 429.7610 - mae: 15.1760\n",
      "Epoch 50/500\n",
      "7765/7765 [==============================] - 0s 29us/step - loss: 422.3454 - mse: 422.3452 - mae: 14.9420\n",
      "Epoch 51/500\n",
      "7765/7765 [==============================] - 0s 37us/step - loss: 415.5441 - mse: 415.5441 - mae: 14.8120\n",
      "Epoch 52/500\n",
      "7765/7765 [==============================] - 0s 52us/step - loss: 407.4671 - mse: 407.4672 - mae: 14.6511\n",
      "Epoch 53/500\n",
      "7765/7765 [==============================] - 0s 28us/step - loss: 403.0251 - mse: 403.0250 - mae: 14.5414\n",
      "Epoch 54/500\n",
      "7765/7765 [==============================] - 0s 35us/step - loss: 416.9663 - mse: 416.9664 - mae: 14.7201\n",
      "Epoch 55/500\n",
      "7765/7765 [==============================] - 0s 27us/step - loss: 405.2482 - mse: 405.2480 - mae: 14.4560\n",
      "Epoch 56/500\n",
      "7765/7765 [==============================] - 0s 27us/step - loss: 394.7816 - mse: 394.7816 - mae: 14.2761\n",
      "Epoch 57/500\n",
      "7765/7765 [==============================] - 0s 28us/step - loss: 392.8063 - mse: 392.8063 - mae: 14.3193\n",
      "Epoch 58/500\n",
      "7765/7765 [==============================] - 0s 27us/step - loss: 376.3213 - mse: 376.3214 - mae: 13.9083\n",
      "Epoch 59/500\n",
      "7765/7765 [==============================] - 0s 27us/step - loss: 385.1808 - mse: 385.1808 - mae: 14.0369\n",
      "Epoch 60/500\n",
      "7765/7765 [==============================] - 0s 31us/step - loss: 380.1569 - mse: 380.1569 - mae: 14.0447\n",
      "Epoch 61/500\n",
      "7765/7765 [==============================] - 0s 27us/step - loss: 365.6589 - mse: 365.6589 - mae: 13.5797\n",
      "Epoch 62/500\n",
      "7765/7765 [==============================] - 0s 32us/step - loss: 362.6332 - mse: 362.6331 - mae: 13.5604\n",
      "Epoch 63/500\n",
      "7765/7765 [==============================] - 0s 27us/step - loss: 369.4933 - mse: 369.4933 - mae: 13.5900\n",
      "Epoch 64/500\n",
      "7765/7765 [==============================] - 0s 30us/step - loss: 359.5568 - mse: 359.5569 - mae: 13.4272\n",
      "Epoch 65/500\n",
      "7765/7765 [==============================] - 0s 29us/step - loss: 360.6015 - mse: 360.6014 - mae: 13.2665\n",
      "Epoch 66/500\n",
      "7765/7765 [==============================] - 0s 27us/step - loss: 347.8653 - mse: 347.8653 - mae: 13.0941\n",
      "Epoch 67/500\n",
      "7765/7765 [==============================] - 0s 28us/step - loss: 340.3861 - mse: 340.3862 - mae: 13.0290\n",
      "Epoch 68/500\n",
      "7765/7765 [==============================] - 0s 27us/step - loss: 335.0873 - mse: 335.0873 - mae: 12.9998\n",
      "Epoch 69/500\n",
      "7765/7765 [==============================] - 0s 27us/step - loss: 329.4966 - mse: 329.4966 - mae: 12.8214\n",
      "Epoch 70/500\n",
      "7765/7765 [==============================] - 0s 27us/step - loss: 334.2965 - mse: 334.2966 - mae: 12.8404\n",
      "Epoch 71/500\n",
      "7765/7765 [==============================] - 0s 28us/step - loss: 321.2967 - mse: 321.2968 - mae: 12.6433\n",
      "Epoch 72/500\n",
      "7765/7765 [==============================] - 0s 36us/step - loss: 321.4835 - mse: 321.4835 - mae: 12.7016\n",
      "Epoch 73/500\n",
      "7765/7765 [==============================] - 0s 30us/step - loss: 312.9860 - mse: 312.9860 - mae: 12.4325\n",
      "Epoch 74/500\n",
      "7765/7765 [==============================] - 0s 29us/step - loss: 318.9924 - mse: 318.9923 - mae: 12.5110\n",
      "Epoch 75/500\n",
      "7765/7765 [==============================] - 0s 29us/step - loss: 310.9960 - mse: 310.9959 - mae: 12.4083\n",
      "Epoch 76/500\n",
      "7765/7765 [==============================] - 0s 27us/step - loss: 315.3161 - mse: 315.3161 - mae: 12.4496\n",
      "Epoch 77/500\n",
      "7765/7765 [==============================] - 0s 28us/step - loss: 301.8032 - mse: 301.8033 - mae: 12.0994\n",
      "Epoch 78/500\n",
      "7765/7765 [==============================] - 0s 30us/step - loss: 301.5454 - mse: 301.5454 - mae: 12.2435\n",
      "Epoch 79/500\n",
      "7765/7765 [==============================] - 0s 27us/step - loss: 293.5505 - mse: 293.5505 - mae: 11.9443\n",
      "Epoch 80/500\n",
      "7765/7765 [==============================] - 0s 28us/step - loss: 292.3785 - mse: 292.3786 - mae: 12.0081\n",
      "Epoch 81/500\n",
      "7765/7765 [==============================] - 0s 29us/step - loss: 284.4278 - mse: 284.4278 - mae: 11.8751\n",
      "Epoch 82/500\n",
      "7765/7765 [==============================] - 0s 28us/step - loss: 283.8720 - mse: 283.8719 - mae: 11.8792\n",
      "Epoch 83/500\n",
      "7765/7765 [==============================] - 0s 28us/step - loss: 281.0456 - mse: 281.0457 - mae: 11.8084\n",
      "Epoch 84/500\n",
      "7765/7765 [==============================] - 0s 29us/step - loss: 280.1374 - mse: 280.1374 - mae: 11.7244\n",
      "Epoch 85/500\n",
      "7765/7765 [==============================] - 0s 29us/step - loss: 272.1832 - mse: 272.1832 - mae: 11.5752\n",
      "Epoch 86/500\n",
      "7765/7765 [==============================] - 0s 28us/step - loss: 273.8837 - mse: 273.8837 - mae: 11.6074\n",
      "Epoch 87/500\n",
      "7765/7765 [==============================] - 0s 26us/step - loss: 263.8661 - mse: 263.8661 - mae: 11.3221\n",
      "Epoch 88/500\n",
      "7765/7765 [==============================] - 0s 27us/step - loss: 265.5372 - mse: 265.5372 - mae: 11.3971\n",
      "Epoch 89/500\n",
      "7765/7765 [==============================] - 0s 27us/step - loss: 261.4696 - mse: 261.4696 - mae: 11.2500\n",
      "Epoch 90/500\n",
      "7765/7765 [==============================] - 0s 29us/step - loss: 258.6803 - mse: 258.6804 - mae: 11.2517\n",
      "Epoch 91/500\n",
      "7765/7765 [==============================] - 0s 28us/step - loss: 257.6002 - mse: 257.6002 - mae: 11.1266\n",
      "Epoch 92/500\n",
      "7765/7765 [==============================] - 0s 27us/step - loss: 256.7620 - mse: 256.7619 - mae: 11.1840\n",
      "Epoch 93/500\n",
      "7765/7765 [==============================] - 0s 27us/step - loss: 245.2457 - mse: 245.2456 - mae: 10.8607 0s - loss: 240.3795 - mse: 240.3795 - mae: 1\n",
      "Epoch 94/500\n",
      "7765/7765 [==============================] - 0s 26us/step - loss: 246.0463 - mse: 246.0462 - mae: 10.9379\n",
      "Epoch 95/500\n",
      "7765/7765 [==============================] - 0s 28us/step - loss: 246.2821 - mse: 246.2820 - mae: 10.8304\n",
      "Epoch 96/500\n",
      "7765/7765 [==============================] - 0s 28us/step - loss: 235.4557 - mse: 235.4557 - mae: 10.6724\n",
      "Epoch 97/500\n",
      "7765/7765 [==============================] - 0s 28us/step - loss: 234.9250 - mse: 234.9249 - mae: 10.7160\n",
      "Epoch 98/500\n",
      "7765/7765 [==============================] - 0s 28us/step - loss: 233.4307 - mse: 233.4307 - mae: 10.6335\n",
      "Epoch 99/500\n",
      "7765/7765 [==============================] - 0s 28us/step - loss: 234.0034 - mse: 234.0033 - mae: 10.6107\n",
      "Epoch 100/500\n",
      "7765/7765 [==============================] - 0s 26us/step - loss: 226.1409 - mse: 226.1408 - mae: 10.4687\n",
      "Epoch 101/500\n",
      "7765/7765 [==============================] - 0s 26us/step - loss: 226.8864 - mse: 226.8864 - mae: 10.3363\n",
      "Epoch 102/500\n",
      "7765/7765 [==============================] - 0s 26us/step - loss: 221.2379 - mse: 221.2378 - mae: 10.2429\n",
      "Epoch 103/500\n",
      "7765/7765 [==============================] - 0s 28us/step - loss: 219.5488 - mse: 219.5488 - mae: 10.1700\n",
      "Epoch 104/500\n",
      "7765/7765 [==============================] - 0s 28us/step - loss: 221.7596 - mse: 221.7596 - mae: 10.1762\n",
      "Epoch 105/500\n",
      "7765/7765 [==============================] - 0s 27us/step - loss: 216.1263 - mse: 216.1263 - mae: 10.0320\n",
      "Epoch 106/500\n",
      "7765/7765 [==============================] - 0s 27us/step - loss: 213.6326 - mse: 213.6326 - mae: 10.0224\n",
      "Epoch 107/500\n",
      "7765/7765 [==============================] - 0s 27us/step - loss: 209.4896 - mse: 209.4897 - mae: 9.8525\n",
      "Epoch 108/500\n",
      "7765/7765 [==============================] - 0s 27us/step - loss: 210.1648 - mse: 210.1647 - mae: 9.8526\n",
      "Epoch 109/500\n",
      "7765/7765 [==============================] - 0s 28us/step - loss: 208.9875 - mse: 208.9875 - mae: 9.8151\n",
      "Epoch 110/500\n",
      "7765/7765 [==============================] - 0s 28us/step - loss: 207.8334 - mse: 207.8334 - mae: 9.7640\n",
      "Epoch 111/500\n",
      "7765/7765 [==============================] - 0s 28us/step - loss: 202.5034 - mse: 202.5034 - mae: 9.6077\n",
      "Epoch 112/500\n",
      "7765/7765 [==============================] - 0s 27us/step - loss: 201.6072 - mse: 201.6072 - mae: 9.5098\n",
      "Epoch 113/500\n",
      "7765/7765 [==============================] - 0s 28us/step - loss: 202.8047 - mse: 202.8048 - mae: 9.5081\n",
      "Epoch 114/500\n",
      "7765/7765 [==============================] - 0s 27us/step - loss: 194.8898 - mse: 194.8898 - mae: 9.3453\n",
      "Epoch 115/500\n",
      "7765/7765 [==============================] - 0s 26us/step - loss: 198.6563 - mse: 198.6564 - mae: 9.3660\n",
      "Epoch 116/500\n",
      "7765/7765 [==============================] - 0s 29us/step - loss: 192.0191 - mse: 192.0191 - mae: 9.2784\n",
      "Epoch 117/500\n",
      "7765/7765 [==============================] - 0s 27us/step - loss: 188.5415 - mse: 188.5415 - mae: 9.1577\n",
      "Epoch 118/500\n",
      "7765/7765 [==============================] - 0s 28us/step - loss: 190.6816 - mse: 190.6816 - mae: 9.1290: 0s - loss: 191.1830 - mse: 191.1830 - mae: 9.133\n",
      "Epoch 119/500\n",
      "7765/7765 [==============================] - 0s 28us/step - loss: 187.1831 - mse: 187.1832 - mae: 8.9977\n",
      "Epoch 120/500\n",
      "7765/7765 [==============================] - 0s 27us/step - loss: 190.9459 - mse: 190.9459 - mae: 9.0548\n",
      "Epoch 121/500\n",
      "7765/7765 [==============================] - 0s 29us/step - loss: 181.4653 - mse: 181.4652 - mae: 8.8640\n",
      "Epoch 122/500\n",
      "7765/7765 [==============================] - 0s 28us/step - loss: 184.4344 - mse: 184.4344 - mae: 8.8227\n",
      "Epoch 123/500\n",
      "7765/7765 [==============================] - 0s 27us/step - loss: 179.9181 - mse: 179.9181 - mae: 8.7416\n",
      "Epoch 124/500\n",
      "7765/7765 [==============================] - 0s 27us/step - loss: 178.5356 - mse: 178.5356 - mae: 8.6731\n",
      "Epoch 125/500\n",
      "7765/7765 [==============================] - 0s 28us/step - loss: 175.6652 - mse: 175.6652 - mae: 8.6255\n",
      "Epoch 126/500\n",
      "7765/7765 [==============================] - 0s 28us/step - loss: 175.4666 - mse: 175.4666 - mae: 8.5696\n",
      "Epoch 127/500\n",
      "7765/7765 [==============================] - 0s 28us/step - loss: 173.0061 - mse: 173.0061 - mae: 8.4896\n",
      "Epoch 128/500\n",
      "7765/7765 [==============================] - 0s 29us/step - loss: 173.2986 - mse: 173.2986 - mae: 8.4573\n",
      "Epoch 129/500\n",
      "7765/7765 [==============================] - 0s 26us/step - loss: 171.0936 - mse: 171.0937 - mae: 8.3770\n",
      "Epoch 130/500\n",
      "7765/7765 [==============================] - 0s 29us/step - loss: 170.8932 - mse: 170.8932 - mae: 8.2872\n",
      "Epoch 131/500\n",
      "7765/7765 [==============================] - 0s 28us/step - loss: 170.2311 - mse: 170.2310 - mae: 8.2866\n",
      "Epoch 132/500\n",
      "7765/7765 [==============================] - 0s 28us/step - loss: 167.3255 - mse: 167.3255 - mae: 8.1347\n",
      "Epoch 133/500\n",
      "7765/7765 [==============================] - 0s 27us/step - loss: 168.1696 - mse: 168.1695 - mae: 8.1643\n",
      "Epoch 134/500\n"
     ]
    },
    {
     "name": "stdout",
     "output_type": "stream",
     "text": [
      "7765/7765 [==============================] - 0s 27us/step - loss: 169.6509 - mse: 169.6509 - mae: 8.2485\n",
      "Epoch 135/500\n",
      "7765/7765 [==============================] - 0s 27us/step - loss: 165.9718 - mse: 165.9718 - mae: 8.2670\n",
      "Epoch 136/500\n",
      "7765/7765 [==============================] - 0s 27us/step - loss: 164.8164 - mse: 164.8163 - mae: 8.1430\n",
      "Epoch 137/500\n",
      "7765/7765 [==============================] - 0s 27us/step - loss: 165.3677 - mse: 165.3678 - mae: 8.3035\n",
      "Epoch 138/500\n",
      "7765/7765 [==============================] - 0s 27us/step - loss: 163.0588 - mse: 163.0589 - mae: 8.3451\n",
      "Epoch 139/500\n",
      "7765/7765 [==============================] - 0s 26us/step - loss: 161.8102 - mse: 161.8102 - mae: 8.2750\n",
      "Epoch 140/500\n",
      "7765/7765 [==============================] - 0s 26us/step - loss: 160.3504 - mse: 160.3503 - mae: 8.3562\n",
      "Epoch 141/500\n",
      "7765/7765 [==============================] - 0s 27us/step - loss: 161.1346 - mse: 161.1346 - mae: 8.3736\n",
      "Epoch 142/500\n",
      "7765/7765 [==============================] - 0s 27us/step - loss: 161.7162 - mse: 161.7162 - mae: 8.4172\n",
      "Epoch 143/500\n",
      "7765/7765 [==============================] - 0s 29us/step - loss: 160.6858 - mse: 160.6859 - mae: 8.4691\n",
      "Epoch 144/500\n",
      "7765/7765 [==============================] - 0s 28us/step - loss: 156.4522 - mse: 156.4521 - mae: 8.4173\n",
      "Epoch 145/500\n",
      "7765/7765 [==============================] - 0s 27us/step - loss: 158.2956 - mse: 158.2956 - mae: 8.5219\n",
      "Epoch 146/500\n",
      "7765/7765 [==============================] - 0s 27us/step - loss: 155.7299 - mse: 155.7300 - mae: 8.5153\n",
      "Epoch 147/500\n",
      "7765/7765 [==============================] - 0s 29us/step - loss: 156.6334 - mse: 156.6335 - mae: 8.4926\n",
      "Epoch 148/500\n",
      "7765/7765 [==============================] - 0s 27us/step - loss: 155.8203 - mse: 155.8203 - mae: 8.5499\n",
      "Epoch 149/500\n",
      "7765/7765 [==============================] - 0s 27us/step - loss: 154.4376 - mse: 154.4376 - mae: 8.6166\n",
      "Epoch 150/500\n",
      "7765/7765 [==============================] - 0s 27us/step - loss: 155.4547 - mse: 155.4547 - mae: 8.6173\n",
      "Epoch 151/500\n",
      "7765/7765 [==============================] - 0s 26us/step - loss: 155.5310 - mse: 155.5310 - mae: 8.6234\n",
      "Epoch 152/500\n",
      "7765/7765 [==============================] - 0s 28us/step - loss: 154.7423 - mse: 154.7422 - mae: 8.6663\n",
      "Epoch 153/500\n",
      "7765/7765 [==============================] - 0s 28us/step - loss: 153.3834 - mse: 153.3834 - mae: 8.6285\n",
      "Epoch 154/500\n",
      "7765/7765 [==============================] - 0s 28us/step - loss: 151.0957 - mse: 151.0957 - mae: 8.6287\n",
      "Epoch 155/500\n",
      "7765/7765 [==============================] - 0s 28us/step - loss: 153.5092 - mse: 153.5092 - mae: 8.7249\n",
      "Epoch 156/500\n",
      "7765/7765 [==============================] - 0s 28us/step - loss: 152.2091 - mse: 152.2091 - mae: 8.7267\n",
      "Epoch 157/500\n",
      "7765/7765 [==============================] - 0s 27us/step - loss: 151.7956 - mse: 151.7955 - mae: 8.6986\n",
      "Epoch 158/500\n",
      "7765/7765 [==============================] - 0s 28us/step - loss: 152.0035 - mse: 152.0035 - mae: 8.7684\n",
      "Epoch 159/500\n",
      "7765/7765 [==============================] - 0s 27us/step - loss: 150.2227 - mse: 150.2227 - mae: 8.7208\n",
      "Epoch 160/500\n",
      "7765/7765 [==============================] - 0s 27us/step - loss: 150.4250 - mse: 150.4249 - mae: 8.7879\n",
      "Epoch 161/500\n",
      "7765/7765 [==============================] - 0s 27us/step - loss: 151.9375 - mse: 151.9374 - mae: 8.7840\n",
      "Epoch 162/500\n",
      "7765/7765 [==============================] - 0s 28us/step - loss: 151.9113 - mse: 151.9113 - mae: 8.8309\n",
      "Epoch 163/500\n",
      "7765/7765 [==============================] - 0s 27us/step - loss: 149.2142 - mse: 149.2143 - mae: 8.7776\n",
      "Epoch 164/500\n",
      "7765/7765 [==============================] - 0s 29us/step - loss: 150.0156 - mse: 150.0156 - mae: 8.8498\n",
      "Epoch 165/500\n",
      "7765/7765 [==============================] - 0s 29us/step - loss: 148.8464 - mse: 148.8464 - mae: 8.8166\n",
      "Epoch 166/500\n",
      "7765/7765 [==============================] - 0s 28us/step - loss: 148.8433 - mse: 148.8433 - mae: 8.8582\n",
      "Epoch 167/500\n",
      "7765/7765 [==============================] - 0s 28us/step - loss: 150.2083 - mse: 150.2083 - mae: 8.9039\n",
      "Epoch 168/500\n",
      "7765/7765 [==============================] - 0s 28us/step - loss: 148.3511 - mse: 148.3512 - mae: 8.8822\n",
      "Epoch 169/500\n",
      "7765/7765 [==============================] - 0s 27us/step - loss: 149.2538 - mse: 149.2538 - mae: 8.8901\n",
      "Epoch 170/500\n",
      "7765/7765 [==============================] - 0s 27us/step - loss: 147.0436 - mse: 147.0436 - mae: 8.8552\n",
      "Epoch 171/500\n",
      "7765/7765 [==============================] - 0s 28us/step - loss: 149.0158 - mse: 149.0158 - mae: 8.9222\n",
      "Epoch 172/500\n",
      "7765/7765 [==============================] - 0s 28us/step - loss: 147.9605 - mse: 147.9605 - mae: 8.8899\n",
      "Epoch 173/500\n",
      "7765/7765 [==============================] - 0s 28us/step - loss: 147.2778 - mse: 147.2778 - mae: 8.8940\n",
      "Epoch 174/500\n",
      "7765/7765 [==============================] - 0s 27us/step - loss: 146.7969 - mse: 146.7969 - mae: 8.9001\n",
      "Epoch 175/500\n",
      "7765/7765 [==============================] - 0s 27us/step - loss: 148.7989 - mse: 148.7990 - mae: 8.9413\n",
      "Epoch 176/500\n",
      "7765/7765 [==============================] - 0s 27us/step - loss: 147.7168 - mse: 147.7168 - mae: 8.9097\n",
      "Epoch 177/500\n",
      "7765/7765 [==============================] - 0s 29us/step - loss: 148.7600 - mse: 148.7600 - mae: 8.9515\n",
      "Epoch 178/500\n",
      "7765/7765 [==============================] - 0s 27us/step - loss: 149.8425 - mse: 149.8425 - mae: 8.9644\n",
      "Epoch 179/500\n",
      "7765/7765 [==============================] - 0s 27us/step - loss: 147.5864 - mse: 147.5863 - mae: 8.9440\n",
      "Epoch 180/500\n",
      "7765/7765 [==============================] - 0s 26us/step - loss: 146.6907 - mse: 146.6907 - mae: 8.9230\n",
      "Epoch 181/500\n",
      "7765/7765 [==============================] - 0s 27us/step - loss: 147.7888 - mse: 147.7888 - mae: 8.9905\n",
      "Epoch 182/500\n",
      "7765/7765 [==============================] - 0s 27us/step - loss: 149.6825 - mse: 149.6825 - mae: 8.9944: 0s - loss: 151.8729 - mse: 151.8730 - mae: 9.02\n",
      "Epoch 183/500\n",
      "7765/7765 [==============================] - 0s 27us/step - loss: 147.1893 - mse: 147.1893 - mae: 8.9517\n",
      "Epoch 184/500\n",
      "7765/7765 [==============================] - 0s 28us/step - loss: 146.7744 - mse: 146.7744 - mae: 8.9396\n",
      "Epoch 185/500\n",
      "7765/7765 [==============================] - 0s 26us/step - loss: 147.8418 - mse: 147.8418 - mae: 9.0005\n",
      "Epoch 186/500\n",
      "7765/7765 [==============================] - 0s 27us/step - loss: 148.1125 - mse: 148.1125 - mae: 9.0029\n",
      "Epoch 187/500\n",
      "7765/7765 [==============================] - 0s 27us/step - loss: 147.8566 - mse: 147.8567 - mae: 8.9739\n",
      "Epoch 188/500\n",
      "7765/7765 [==============================] - 0s 26us/step - loss: 146.4404 - mse: 146.4403 - mae: 8.9795\n",
      "Epoch 189/500\n",
      "7765/7765 [==============================] - 0s 29us/step - loss: 149.4596 - mse: 149.4595 - mae: 9.0063\n",
      "Epoch 190/500\n",
      "7765/7765 [==============================] - 0s 29us/step - loss: 146.9570 - mse: 146.9570 - mae: 8.9864\n",
      "Epoch 191/500\n",
      "7765/7765 [==============================] - 0s 29us/step - loss: 147.4201 - mse: 147.4200 - mae: 8.9996\n",
      "Epoch 192/500\n",
      "7765/7765 [==============================] - 0s 26us/step - loss: 147.2716 - mse: 147.2716 - mae: 8.9933\n",
      "Epoch 193/500\n",
      "7765/7765 [==============================] - 0s 26us/step - loss: 146.9949 - mse: 146.9949 - mae: 8.9936\n",
      "Epoch 194/500\n",
      "7765/7765 [==============================] - 0s 27us/step - loss: 145.7586 - mse: 145.7587 - mae: 8.9787\n",
      "Epoch 195/500\n",
      "7765/7765 [==============================] - 0s 26us/step - loss: 148.7425 - mse: 148.7425 - mae: 9.0298\n",
      "Epoch 196/500\n",
      "7765/7765 [==============================] - 0s 26us/step - loss: 148.5357 - mse: 148.5357 - mae: 9.0495\n",
      "Epoch 197/500\n",
      "7765/7765 [==============================] - 0s 26us/step - loss: 149.4708 - mse: 149.4708 - mae: 9.0104\n",
      "Epoch 198/500\n",
      "7765/7765 [==============================] - 0s 27us/step - loss: 146.6289 - mse: 146.6289 - mae: 8.9870\n",
      "Epoch 199/500\n",
      "7765/7765 [==============================] - 0s 27us/step - loss: 147.1183 - mse: 147.1183 - mae: 9.0101\n",
      "Epoch 200/500\n",
      "7765/7765 [==============================] - 0s 32us/step - loss: 145.6174 - mse: 145.6174 - mae: 8.9692\n",
      "Epoch 201/500\n",
      "7765/7765 [==============================] - 0s 28us/step - loss: 151.5780 - mse: 151.5780 - mae: 9.0457: 0s - loss: 146.0219 - mse: 146.0219 - mae: 8.9\n",
      "Epoch 202/500\n",
      "7765/7765 [==============================] - 0s 27us/step - loss: 146.7395 - mse: 146.7396 - mae: 9.0318\n",
      "Epoch 203/500\n",
      "7765/7765 [==============================] - 0s 27us/step - loss: 148.7172 - mse: 148.7171 - mae: 9.0206\n",
      "Epoch 204/500\n",
      "7765/7765 [==============================] - 0s 27us/step - loss: 148.6309 - mse: 148.6308 - mae: 9.0544\n",
      "Epoch 205/500\n",
      "7765/7765 [==============================] - 0s 29us/step - loss: 150.7376 - mse: 150.7375 - mae: 9.0242\n",
      "Epoch 206/500\n",
      "7765/7765 [==============================] - 0s 30us/step - loss: 149.4805 - mse: 149.4805 - mae: 9.0390\n",
      "Epoch 207/500\n",
      "7765/7765 [==============================] - 0s 31us/step - loss: 145.4427 - mse: 145.4427 - mae: 9.0071\n",
      "Epoch 208/500\n",
      "7765/7765 [==============================] - 0s 30us/step - loss: 145.8059 - mse: 145.8059 - mae: 9.0494\n",
      "Epoch 209/500\n",
      "7765/7765 [==============================] - 0s 30us/step - loss: 145.3395 - mse: 145.3395 - mae: 9.0298\n",
      "Epoch 210/500\n",
      "7765/7765 [==============================] - 0s 31us/step - loss: 146.9249 - mse: 146.9249 - mae: 9.0556\n",
      "Epoch 211/500\n",
      "7765/7765 [==============================] - 0s 28us/step - loss: 145.9991 - mse: 145.9991 - mae: 9.0408\n",
      "Epoch 212/500\n",
      "7765/7765 [==============================] - 0s 29us/step - loss: 146.7045 - mse: 146.7044 - mae: 9.0420\n",
      "Epoch 213/500\n",
      "7765/7765 [==============================] - 0s 28us/step - loss: 148.2972 - mse: 148.2972 - mae: 9.0799\n",
      "Epoch 214/500\n",
      "7765/7765 [==============================] - 0s 28us/step - loss: 147.8547 - mse: 147.8547 - mae: 9.0569\n",
      "Epoch 215/500\n",
      "7765/7765 [==============================] - 0s 27us/step - loss: 145.5598 - mse: 145.5598 - mae: 9.0238\n",
      "Epoch 216/500\n",
      "7765/7765 [==============================] - 0s 27us/step - loss: 147.6687 - mse: 147.6687 - mae: 9.0753\n",
      "Epoch 217/500\n",
      "7765/7765 [==============================] - 0s 28us/step - loss: 146.6124 - mse: 146.6124 - mae: 9.0526\n",
      "Epoch 218/500\n",
      "7765/7765 [==============================] - 0s 27us/step - loss: 147.0324 - mse: 147.0324 - mae: 9.0572\n",
      "Epoch 219/500\n",
      "7765/7765 [==============================] - 0s 28us/step - loss: 145.8701 - mse: 145.8700 - mae: 9.0436\n",
      "Epoch 220/500\n",
      "7765/7765 [==============================] - 0s 27us/step - loss: 149.5136 - mse: 149.5135 - mae: 9.0896\n",
      "Epoch 221/500\n",
      "7765/7765 [==============================] - 0s 28us/step - loss: 146.6615 - mse: 146.6615 - mae: 9.0665\n",
      "Epoch 222/500\n",
      "7765/7765 [==============================] - 0s 28us/step - loss: 148.6659 - mse: 148.6658 - mae: 9.0905\n",
      "Epoch 223/500\n",
      "7765/7765 [==============================] - 0s 28us/step - loss: 147.0855 - mse: 147.0856 - mae: 9.0595\n",
      "Epoch 224/500\n",
      "7765/7765 [==============================] - 0s 28us/step - loss: 147.8446 - mse: 147.8447 - mae: 9.0755\n",
      "Epoch 225/500\n",
      "7765/7765 [==============================] - 0s 27us/step - loss: 145.3962 - mse: 145.3962 - mae: 9.0542\n",
      "Epoch 226/500\n",
      "7765/7765 [==============================] - 0s 28us/step - loss: 148.3808 - mse: 148.3809 - mae: 9.1109\n",
      "Epoch 227/500\n",
      "7765/7765 [==============================] - 0s 27us/step - loss: 145.7366 - mse: 145.7366 - mae: 9.0441\n",
      "Epoch 228/500\n",
      "7765/7765 [==============================] - 0s 27us/step - loss: 147.6746 - mse: 147.6746 - mae: 9.0809\n",
      "Epoch 229/500\n",
      "7765/7765 [==============================] - 0s 28us/step - loss: 145.2115 - mse: 145.2116 - mae: 9.0258\n",
      "Epoch 230/500\n",
      "7765/7765 [==============================] - 0s 28us/step - loss: 146.6551 - mse: 146.6551 - mae: 9.0455\n",
      "Epoch 231/500\n",
      "7765/7765 [==============================] - 0s 28us/step - loss: 146.4214 - mse: 146.4214 - mae: 9.0585\n",
      "Epoch 232/500\n",
      "7765/7765 [==============================] - 0s 26us/step - loss: 148.4851 - mse: 148.4851 - mae: 9.1025\n",
      "Epoch 233/500\n",
      "7765/7765 [==============================] - 0s 27us/step - loss: 147.1557 - mse: 147.1557 - mae: 9.0823\n",
      "Epoch 234/500\n",
      "7765/7765 [==============================] - 0s 27us/step - loss: 144.9677 - mse: 144.9677 - mae: 9.0229\n",
      "Epoch 235/500\n",
      "7765/7765 [==============================] - 0s 29us/step - loss: 147.7850 - mse: 147.7850 - mae: 9.0940\n",
      "Epoch 236/500\n",
      "7765/7765 [==============================] - 0s 28us/step - loss: 144.5183 - mse: 144.5184 - mae: 9.0408\n",
      "Epoch 237/500\n",
      "7765/7765 [==============================] - 0s 28us/step - loss: 146.3898 - mse: 146.3899 - mae: 9.0771\n",
      "Epoch 238/500\n",
      "7765/7765 [==============================] - 0s 28us/step - loss: 150.0168 - mse: 150.0167 - mae: 9.0908\n",
      "Epoch 239/500\n",
      "7765/7765 [==============================] - 0s 27us/step - loss: 146.3294 - mse: 146.3293 - mae: 9.0658\n",
      "Epoch 240/500\n",
      "7765/7765 [==============================] - 0s 27us/step - loss: 148.4366 - mse: 148.4366 - mae: 9.0883\n",
      "Epoch 241/500\n",
      "7765/7765 [==============================] - 0s 27us/step - loss: 148.0416 - mse: 148.0416 - mae: 9.0807\n",
      "Epoch 242/500\n",
      "7765/7765 [==============================] - 0s 28us/step - loss: 147.4440 - mse: 147.4440 - mae: 9.0779\n",
      "Epoch 243/500\n",
      "7765/7765 [==============================] - 0s 28us/step - loss: 148.2001 - mse: 148.2001 - mae: 9.1052\n",
      "Epoch 244/500\n",
      "7765/7765 [==============================] - 0s 27us/step - loss: 145.6981 - mse: 145.6981 - mae: 9.0554\n",
      "Epoch 245/500\n",
      "7765/7765 [==============================] - 0s 26us/step - loss: 146.9951 - mse: 146.9951 - mae: 9.1079\n",
      "Epoch 246/500\n",
      "7765/7765 [==============================] - 0s 27us/step - loss: 148.0476 - mse: 148.0477 - mae: 9.1197\n",
      "Epoch 247/500\n",
      "7765/7765 [==============================] - 0s 26us/step - loss: 147.7671 - mse: 147.7671 - mae: 9.1244\n",
      "Epoch 248/500\n",
      "7765/7765 [==============================] - 0s 28us/step - loss: 148.0885 - mse: 148.0885 - mae: 9.0865\n",
      "Epoch 249/500\n",
      "7765/7765 [==============================] - 0s 27us/step - loss: 148.7575 - mse: 148.7575 - mae: 9.1051\n",
      "Epoch 250/500\n",
      "7765/7765 [==============================] - 0s 26us/step - loss: 146.8590 - mse: 146.8591 - mae: 9.0930\n",
      "Epoch 251/500\n",
      "7765/7765 [==============================] - 0s 27us/step - loss: 147.6299 - mse: 147.6299 - mae: 9.1222\n",
      "Epoch 252/500\n",
      "7765/7765 [==============================] - 0s 26us/step - loss: 146.1733 - mse: 146.1732 - mae: 9.0895\n",
      "Epoch 253/500\n",
      "7765/7765 [==============================] - 0s 27us/step - loss: 147.3719 - mse: 147.3719 - mae: 9.0774\n",
      "Epoch 254/500\n",
      "7765/7765 [==============================] - 0s 28us/step - loss: 147.5183 - mse: 147.5183 - mae: 9.0944\n",
      "Epoch 255/500\n",
      "7765/7765 [==============================] - 0s 26us/step - loss: 146.4899 - mse: 146.4899 - mae: 9.0548\n",
      "Epoch 256/500\n",
      "7765/7765 [==============================] - 0s 27us/step - loss: 145.3749 - mse: 145.3749 - mae: 9.0512\n",
      "Epoch 257/500\n",
      "7765/7765 [==============================] - 0s 27us/step - loss: 147.0968 - mse: 147.0968 - mae: 9.1026\n",
      "Epoch 258/500\n",
      "7765/7765 [==============================] - 0s 29us/step - loss: 145.2918 - mse: 145.2917 - mae: 9.0504\n",
      "Epoch 259/500\n",
      "7765/7765 [==============================] - 0s 29us/step - loss: 147.4857 - mse: 147.4857 - mae: 9.0841\n",
      "Epoch 260/500\n",
      "7765/7765 [==============================] - 0s 28us/step - loss: 148.0560 - mse: 148.0560 - mae: 9.1028\n",
      "Epoch 261/500\n",
      "7765/7765 [==============================] - 0s 28us/step - loss: 146.0643 - mse: 146.0642 - mae: 9.0708\n",
      "Epoch 262/500\n",
      "7765/7765 [==============================] - 0s 26us/step - loss: 144.7196 - mse: 144.7197 - mae: 9.0427\n",
      "Epoch 263/500\n",
      "7765/7765 [==============================] - 0s 27us/step - loss: 147.2194 - mse: 147.2194 - mae: 9.0812\n",
      "Epoch 264/500\n",
      "7765/7765 [==============================] - 0s 27us/step - loss: 148.4543 - mse: 148.4543 - mae: 9.1067\n",
      "Epoch 265/500\n",
      "7765/7765 [==============================] - 0s 27us/step - loss: 146.7835 - mse: 146.7834 - mae: 9.0789\n",
      "Epoch 266/500\n",
      "7765/7765 [==============================] - 0s 27us/step - loss: 144.9599 - mse: 144.9599 - mae: 9.0720\n",
      "Epoch 267/500\n",
      "7765/7765 [==============================] - 0s 28us/step - loss: 148.0597 - mse: 148.0596 - mae: 9.0927\n",
      "Epoch 268/500\n",
      "7765/7765 [==============================] - 0s 27us/step - loss: 149.6912 - mse: 149.6911 - mae: 9.1236\n",
      "Epoch 269/500\n",
      "7765/7765 [==============================] - 0s 27us/step - loss: 148.7102 - mse: 148.7101 - mae: 9.0970\n",
      "Epoch 270/500\n",
      "7765/7765 [==============================] - 0s 27us/step - loss: 149.1002 - mse: 149.1002 - mae: 9.1117\n"
     ]
    },
    {
     "name": "stdout",
     "output_type": "stream",
     "text": [
      "Epoch 271/500\n",
      "7765/7765 [==============================] - 0s 27us/step - loss: 147.6087 - mse: 147.6086 - mae: 9.11040s - loss: 149.1637 - mse: 149.1637 - mae: 9.\n",
      "Epoch 272/500\n",
      "7765/7765 [==============================] - 0s 27us/step - loss: 146.4593 - mse: 146.4593 - mae: 9.1025\n",
      "Epoch 273/500\n",
      "7765/7765 [==============================] - 0s 26us/step - loss: 146.5283 - mse: 146.5283 - mae: 9.0883\n",
      "Epoch 274/500\n",
      "7765/7765 [==============================] - 0s 27us/step - loss: 146.3284 - mse: 146.3284 - mae: 9.0912\n",
      "Epoch 275/500\n",
      "7765/7765 [==============================] - 0s 27us/step - loss: 149.8538 - mse: 149.8538 - mae: 9.0960\n",
      "Epoch 276/500\n",
      "7765/7765 [==============================] - 0s 27us/step - loss: 146.5674 - mse: 146.5674 - mae: 9.0648\n",
      "Epoch 277/500\n",
      "7765/7765 [==============================] - 0s 27us/step - loss: 145.8891 - mse: 145.8891 - mae: 9.0915\n",
      "Epoch 278/500\n",
      "7765/7765 [==============================] - 0s 27us/step - loss: 145.4151 - mse: 145.4151 - mae: 9.0516\n",
      "Epoch 279/500\n",
      "7765/7765 [==============================] - 0s 27us/step - loss: 149.4203 - mse: 149.4203 - mae: 9.0915\n",
      "Epoch 280/500\n",
      "7765/7765 [==============================] - 0s 27us/step - loss: 150.6732 - mse: 150.6732 - mae: 9.1526\n",
      "Epoch 281/500\n",
      "7765/7765 [==============================] - 0s 27us/step - loss: 145.4057 - mse: 145.4057 - mae: 9.0766\n",
      "Epoch 282/500\n",
      "7765/7765 [==============================] - 0s 28us/step - loss: 147.5258 - mse: 147.5258 - mae: 9.0969\n",
      "Epoch 283/500\n",
      "7765/7765 [==============================] - 0s 29us/step - loss: 147.0407 - mse: 147.0408 - mae: 9.1206\n",
      "Epoch 284/500\n",
      "7765/7765 [==============================] - 0s 27us/step - loss: 145.7520 - mse: 145.7520 - mae: 9.0362\n",
      "Epoch 285/500\n",
      "7765/7765 [==============================] - 0s 27us/step - loss: 145.4067 - mse: 145.4068 - mae: 9.0569\n",
      "Epoch 286/500\n",
      "7765/7765 [==============================] - 0s 27us/step - loss: 148.2911 - mse: 148.2911 - mae: 9.1027\n",
      "Epoch 287/500\n",
      "7765/7765 [==============================] - 0s 28us/step - loss: 147.2764 - mse: 147.2764 - mae: 9.0912\n",
      "Epoch 288/500\n",
      "7765/7765 [==============================] - 0s 27us/step - loss: 148.2875 - mse: 148.2875 - mae: 9.0742\n",
      "Epoch 289/500\n",
      "7765/7765 [==============================] - 0s 27us/step - loss: 146.7389 - mse: 146.7389 - mae: 9.0836\n",
      "Epoch 290/500\n",
      "7765/7765 [==============================] - 0s 28us/step - loss: 148.3854 - mse: 148.3853 - mae: 9.1089\n",
      "Epoch 291/500\n",
      "7765/7765 [==============================] - 0s 27us/step - loss: 145.8593 - mse: 145.8593 - mae: 9.0713\n",
      "Epoch 292/500\n",
      "7765/7765 [==============================] - 0s 27us/step - loss: 147.1203 - mse: 147.1203 - mae: 9.1141\n",
      "Epoch 293/500\n",
      "7765/7765 [==============================] - 0s 27us/step - loss: 148.4408 - mse: 148.4409 - mae: 9.1208\n",
      "Epoch 294/500\n",
      "7765/7765 [==============================] - 0s 27us/step - loss: 146.8047 - mse: 146.8047 - mae: 9.0856\n",
      "Epoch 295/500\n",
      "7765/7765 [==============================] - 0s 27us/step - loss: 148.7385 - mse: 148.7385 - mae: 9.1078\n",
      "Epoch 296/500\n",
      "7765/7765 [==============================] - 0s 27us/step - loss: 150.8497 - mse: 150.8497 - mae: 9.1143\n",
      "Epoch 297/500\n",
      "7765/7765 [==============================] - 0s 28us/step - loss: 147.6728 - mse: 147.6728 - mae: 9.0822\n",
      "Epoch 298/500\n",
      "7765/7765 [==============================] - 0s 27us/step - loss: 146.0714 - mse: 146.0714 - mae: 9.0678\n",
      "Epoch 299/500\n",
      "7765/7765 [==============================] - 0s 27us/step - loss: 146.5448 - mse: 146.5448 - mae: 9.0765\n",
      "Epoch 300/500\n",
      "7765/7765 [==============================] - 0s 27us/step - loss: 148.8280 - mse: 148.8281 - mae: 9.0996\n",
      "Epoch 301/500\n",
      "7765/7765 [==============================] - 0s 27us/step - loss: 145.8687 - mse: 145.8687 - mae: 9.0646\n",
      "Epoch 302/500\n",
      "7765/7765 [==============================] - 0s 27us/step - loss: 147.4323 - mse: 147.4324 - mae: 9.1127\n",
      "Epoch 303/500\n",
      "7765/7765 [==============================] - 0s 26us/step - loss: 146.9436 - mse: 146.9436 - mae: 9.1081\n",
      "Epoch 304/500\n",
      "7765/7765 [==============================] - 0s 27us/step - loss: 147.0836 - mse: 147.0836 - mae: 9.0961\n",
      "Epoch 305/500\n",
      "7765/7765 [==============================] - 0s 27us/step - loss: 145.7585 - mse: 145.7585 - mae: 9.0628\n",
      "Epoch 306/500\n",
      "7765/7765 [==============================] - 0s 27us/step - loss: 147.2621 - mse: 147.2620 - mae: 9.0802\n",
      "Epoch 307/500\n",
      "7765/7765 [==============================] - 0s 27us/step - loss: 147.7424 - mse: 147.7424 - mae: 9.0747\n",
      "Epoch 308/500\n",
      "7765/7765 [==============================] - 0s 27us/step - loss: 147.0440 - mse: 147.0440 - mae: 9.0707\n",
      "Epoch 309/500\n",
      "7765/7765 [==============================] - 0s 28us/step - loss: 147.8022 - mse: 147.8022 - mae: 9.0759\n",
      "Epoch 310/500\n",
      "7765/7765 [==============================] - 0s 27us/step - loss: 148.6824 - mse: 148.6824 - mae: 9.0949\n",
      "Epoch 311/500\n",
      "7765/7765 [==============================] - 0s 28us/step - loss: 147.7808 - mse: 147.7807 - mae: 9.0915\n",
      "Epoch 312/500\n",
      "7765/7765 [==============================] - 0s 26us/step - loss: 146.7802 - mse: 146.7802 - mae: 9.0690\n",
      "Epoch 313/500\n",
      "7765/7765 [==============================] - 0s 27us/step - loss: 145.8539 - mse: 145.8539 - mae: 9.0842\n",
      "Epoch 314/500\n",
      "7765/7765 [==============================] - 0s 28us/step - loss: 146.0443 - mse: 146.0442 - mae: 9.0652\n",
      "Epoch 315/500\n",
      "7765/7765 [==============================] - 0s 27us/step - loss: 146.7897 - mse: 146.7897 - mae: 9.0657\n",
      "Epoch 316/500\n",
      "7765/7765 [==============================] - 0s 29us/step - loss: 150.3909 - mse: 150.3909 - mae: 9.1108: 0s - loss: 153.3788 - mse: 153.3788 - mae: 9.16\n",
      "Epoch 317/500\n",
      "7765/7765 [==============================] - 0s 27us/step - loss: 148.7771 - mse: 148.7771 - mae: 9.0952\n",
      "Epoch 318/500\n",
      "7765/7765 [==============================] - 0s 26us/step - loss: 146.3322 - mse: 146.3323 - mae: 9.0939\n",
      "Epoch 319/500\n",
      "7765/7765 [==============================] - 0s 28us/step - loss: 148.9755 - mse: 148.9755 - mae: 9.1508\n",
      "Epoch 320/500\n",
      "7765/7765 [==============================] - 0s 27us/step - loss: 147.0065 - mse: 147.0065 - mae: 9.0873\n",
      "Epoch 321/500\n",
      "7765/7765 [==============================] - 0s 26us/step - loss: 144.7979 - mse: 144.7979 - mae: 9.0540\n",
      "Epoch 322/500\n",
      "7765/7765 [==============================] - 0s 27us/step - loss: 147.4084 - mse: 147.4085 - mae: 9.1062\n",
      "Epoch 323/500\n",
      "7765/7765 [==============================] - 0s 28us/step - loss: 145.5732 - mse: 145.5732 - mae: 9.0478\n",
      "Epoch 324/500\n",
      "7765/7765 [==============================] - 0s 28us/step - loss: 146.0957 - mse: 146.0956 - mae: 9.0638\n",
      "Epoch 325/500\n",
      "7765/7765 [==============================] - 0s 27us/step - loss: 147.1439 - mse: 147.1439 - mae: 9.0979\n",
      "Epoch 326/500\n",
      "7765/7765 [==============================] - 0s 26us/step - loss: 146.9748 - mse: 146.9748 - mae: 9.0619\n",
      "Epoch 327/500\n",
      "7765/7765 [==============================] - 0s 27us/step - loss: 147.4835 - mse: 147.4835 - mae: 9.0872\n",
      "Epoch 328/500\n",
      "7765/7765 [==============================] - 0s 28us/step - loss: 149.1027 - mse: 149.1027 - mae: 9.1107\n",
      "Epoch 329/500\n",
      "7765/7765 [==============================] - 0s 28us/step - loss: 147.1783 - mse: 147.1783 - mae: 9.0861\n",
      "Epoch 330/500\n",
      "7765/7765 [==============================] - 0s 28us/step - loss: 148.3305 - mse: 148.3305 - mae: 9.1157\n",
      "Epoch 331/500\n",
      "7765/7765 [==============================] - 0s 28us/step - loss: 148.7669 - mse: 148.7669 - mae: 9.1223\n",
      "Epoch 332/500\n",
      "7765/7765 [==============================] - 0s 28us/step - loss: 146.8430 - mse: 146.8430 - mae: 9.0838\n",
      "Epoch 333/500\n",
      "7765/7765 [==============================] - 0s 26us/step - loss: 145.0820 - mse: 145.0820 - mae: 9.0581\n",
      "Epoch 334/500\n",
      "7765/7765 [==============================] - 0s 27us/step - loss: 146.9758 - mse: 146.9758 - mae: 9.0903: 0s - loss: 162.5066 - mse: 162.5066 - mae: 9.2\n",
      "Epoch 335/500\n",
      "7765/7765 [==============================] - 0s 26us/step - loss: 146.5082 - mse: 146.5082 - mae: 9.0701\n",
      "Epoch 336/500\n",
      "7765/7765 [==============================] - 0s 27us/step - loss: 147.2155 - mse: 147.2155 - mae: 9.0971\n",
      "Epoch 337/500\n",
      "7765/7765 [==============================] - 0s 28us/step - loss: 146.5269 - mse: 146.5268 - mae: 9.0787\n",
      "Epoch 338/500\n",
      "7765/7765 [==============================] - 0s 26us/step - loss: 145.5878 - mse: 145.5878 - mae: 9.0765\n",
      "Epoch 339/500\n",
      "7765/7765 [==============================] - 0s 26us/step - loss: 148.5938 - mse: 148.5938 - mae: 9.1301\n",
      "Epoch 340/500\n",
      "7765/7765 [==============================] - 0s 27us/step - loss: 146.6955 - mse: 146.6956 - mae: 9.0947\n",
      "Epoch 341/500\n",
      "7765/7765 [==============================] - 0s 26us/step - loss: 145.3910 - mse: 145.3910 - mae: 9.0644\n",
      "Epoch 342/500\n",
      "7765/7765 [==============================] - 0s 26us/step - loss: 147.1382 - mse: 147.1382 - mae: 9.0865\n",
      "Epoch 343/500\n",
      "7765/7765 [==============================] - 0s 27us/step - loss: 147.1574 - mse: 147.1574 - mae: 9.0970\n",
      "Epoch 344/500\n",
      "7765/7765 [==============================] - 0s 26us/step - loss: 147.2352 - mse: 147.2352 - mae: 9.0973\n",
      "Epoch 345/500\n",
      "7765/7765 [==============================] - 0s 27us/step - loss: 147.1297 - mse: 147.1297 - mae: 9.0807\n",
      "Epoch 346/500\n",
      "7765/7765 [==============================] - 0s 26us/step - loss: 145.8263 - mse: 145.8264 - mae: 9.0661\n",
      "Epoch 347/500\n",
      "7765/7765 [==============================] - 0s 27us/step - loss: 146.3271 - mse: 146.3271 - mae: 9.0691\n",
      "Epoch 348/500\n",
      "7765/7765 [==============================] - 0s 27us/step - loss: 147.0131 - mse: 147.0131 - mae: 9.0611\n",
      "Epoch 349/500\n",
      "7765/7765 [==============================] - 0s 26us/step - loss: 146.4442 - mse: 146.4443 - mae: 9.0781\n",
      "Epoch 350/500\n",
      "7765/7765 [==============================] - 0s 27us/step - loss: 146.7447 - mse: 146.7447 - mae: 9.0982\n",
      "Epoch 351/500\n",
      "7765/7765 [==============================] - 0s 26us/step - loss: 150.0101 - mse: 150.0101 - mae: 9.1106\n",
      "Epoch 352/500\n",
      "7765/7765 [==============================] - 0s 29us/step - loss: 147.0348 - mse: 147.0347 - mae: 9.0664\n",
      "Epoch 353/500\n",
      "7765/7765 [==============================] - 0s 30us/step - loss: 146.9274 - mse: 146.9274 - mae: 9.1000\n",
      "Epoch 354/500\n",
      "7765/7765 [==============================] - 0s 29us/step - loss: 148.6803 - mse: 148.6803 - mae: 9.0984\n",
      "Epoch 355/500\n",
      "7765/7765 [==============================] - 0s 29us/step - loss: 146.6272 - mse: 146.6273 - mae: 9.0688\n",
      "Epoch 356/500\n",
      "7765/7765 [==============================] - 0s 28us/step - loss: 146.8011 - mse: 146.8010 - mae: 9.1077\n",
      "Epoch 357/500\n",
      "7765/7765 [==============================] - 0s 30us/step - loss: 147.6143 - mse: 147.6143 - mae: 9.0808\n",
      "Epoch 358/500\n",
      "7765/7765 [==============================] - 0s 31us/step - loss: 148.4437 - mse: 148.4437 - mae: 9.0869\n",
      "Epoch 359/500\n",
      "7765/7765 [==============================] - 0s 41us/step - loss: 147.7188 - mse: 147.7189 - mae: 9.0783\n",
      "Epoch 360/500\n",
      "7765/7765 [==============================] - 0s 35us/step - loss: 149.9432 - mse: 149.9431 - mae: 9.1206\n",
      "Epoch 361/500\n",
      "7765/7765 [==============================] - 0s 30us/step - loss: 146.3950 - mse: 146.3950 - mae: 9.0830: 0s - loss: 146.5473 - mse: 146.5473 - mae: 9.0\n",
      "Epoch 362/500\n",
      "7765/7765 [==============================] - 0s 31us/step - loss: 147.0274 - mse: 147.0275 - mae: 9.0895\n",
      "Epoch 363/500\n",
      "7765/7765 [==============================] - 0s 30us/step - loss: 144.9336 - mse: 144.9337 - mae: 9.0521\n",
      "Epoch 364/500\n",
      "7765/7765 [==============================] - 0s 31us/step - loss: 147.4303 - mse: 147.4303 - mae: 9.1015\n",
      "Epoch 365/500\n",
      "7765/7765 [==============================] - 0s 30us/step - loss: 148.4725 - mse: 148.4725 - mae: 9.0832\n",
      "Epoch 366/500\n",
      "7765/7765 [==============================] - 0s 32us/step - loss: 147.1918 - mse: 147.1918 - mae: 9.10160s - loss: 146.5796 - mse: 146.5797 - mae: 9.\n",
      "Epoch 367/500\n",
      "7765/7765 [==============================] - 0s 32us/step - loss: 145.3431 - mse: 145.3431 - mae: 9.0560\n",
      "Epoch 368/500\n",
      "7765/7765 [==============================] - 0s 31us/step - loss: 146.4221 - mse: 146.4221 - mae: 9.0675: 0s - loss: 154.8745 - mse: 154.8745 - mae: 9.147 - ETA: 0s - loss: 149.6009 - mse: 149.6009 - mae: 9.120\n",
      "Epoch 369/500\n",
      "7765/7765 [==============================] - 0s 30us/step - loss: 148.1650 - mse: 148.1649 - mae: 9.1176\n",
      "Epoch 370/500\n",
      "7765/7765 [==============================] - 0s 31us/step - loss: 147.4451 - mse: 147.4451 - mae: 9.0928\n",
      "Epoch 371/500\n",
      "7765/7765 [==============================] - 0s 29us/step - loss: 145.9447 - mse: 145.9447 - mae: 9.0618\n",
      "Epoch 372/500\n",
      "7765/7765 [==============================] - 0s 30us/step - loss: 146.6224 - mse: 146.6224 - mae: 9.0832\n",
      "Epoch 373/500\n",
      "7765/7765 [==============================] - 0s 31us/step - loss: 148.5391 - mse: 148.5390 - mae: 9.0952\n",
      "Epoch 374/500\n",
      "7765/7765 [==============================] - 0s 30us/step - loss: 145.2231 - mse: 145.2231 - mae: 9.0722\n",
      "Epoch 375/500\n",
      "7765/7765 [==============================] - 0s 31us/step - loss: 149.4813 - mse: 149.4813 - mae: 9.0888\n",
      "Epoch 376/500\n",
      "7765/7765 [==============================] - 0s 30us/step - loss: 145.7996 - mse: 145.7996 - mae: 9.0691: 0s - loss: 137.9186 - mse: 137.9186 - mae: 9.\n",
      "Epoch 377/500\n",
      "7765/7765 [==============================] - 0s 32us/step - loss: 147.4157 - mse: 147.4157 - mae: 9.0679\n",
      "Epoch 378/500\n",
      "7765/7765 [==============================] - 0s 30us/step - loss: 148.1190 - mse: 148.1190 - mae: 9.0820\n",
      "Epoch 379/500\n",
      "7765/7765 [==============================] - 0s 27us/step - loss: 145.9062 - mse: 145.9062 - mae: 9.0685\n",
      "Epoch 380/500\n",
      "7765/7765 [==============================] - 0s 28us/step - loss: 147.2186 - mse: 147.2186 - mae: 9.0736\n",
      "Epoch 381/500\n",
      "7765/7765 [==============================] - 0s 28us/step - loss: 146.3978 - mse: 146.3978 - mae: 9.0751\n",
      "Epoch 382/500\n",
      "7765/7765 [==============================] - 0s 29us/step - loss: 147.3090 - mse: 147.3090 - mae: 9.0940\n",
      "Epoch 383/500\n",
      "7765/7765 [==============================] - 0s 29us/step - loss: 146.8620 - mse: 146.8620 - mae: 9.0839: 0s - loss: 147.9490 - mse: 147.9490 - mae: 9.085\n",
      "Epoch 384/500\n",
      "7765/7765 [==============================] - 0s 27us/step - loss: 146.6859 - mse: 146.6859 - mae: 9.0677\n",
      "Epoch 385/500\n",
      "7765/7765 [==============================] - 0s 29us/step - loss: 146.7746 - mse: 146.7746 - mae: 9.0741\n",
      "Epoch 386/500\n",
      "7765/7765 [==============================] - 0s 29us/step - loss: 148.8733 - mse: 148.8733 - mae: 9.1252\n",
      "Epoch 387/500\n",
      "7765/7765 [==============================] - 0s 28us/step - loss: 145.8451 - mse: 145.8451 - mae: 9.0870\n",
      "Epoch 388/500\n",
      "7765/7765 [==============================] - 0s 31us/step - loss: 144.9171 - mse: 144.9171 - mae: 9.0350\n",
      "Epoch 389/500\n",
      "7765/7765 [==============================] - 0s 31us/step - loss: 148.1993 - mse: 148.1993 - mae: 9.1092\n",
      "Epoch 390/500\n",
      "7765/7765 [==============================] - 0s 32us/step - loss: 144.8166 - mse: 144.8166 - mae: 9.0392\n",
      "Epoch 391/500\n",
      "7765/7765 [==============================] - 0s 32us/step - loss: 146.3008 - mse: 146.3008 - mae: 9.0474\n",
      "Epoch 392/500\n",
      "7765/7765 [==============================] - 0s 27us/step - loss: 147.8449 - mse: 147.8450 - mae: 9.1030\n",
      "Epoch 393/500\n",
      "7765/7765 [==============================] - 0s 29us/step - loss: 147.9916 - mse: 147.9916 - mae: 9.1006\n",
      "Epoch 394/500\n",
      "7765/7765 [==============================] - 0s 30us/step - loss: 147.4949 - mse: 147.4949 - mae: 9.1081\n",
      "Epoch 395/500\n",
      "7765/7765 [==============================] - 0s 28us/step - loss: 147.3129 - mse: 147.3129 - mae: 9.0797\n",
      "Epoch 396/500\n",
      "7765/7765 [==============================] - 0s 29us/step - loss: 146.3615 - mse: 146.3614 - mae: 9.0746\n",
      "Epoch 397/500\n",
      "7765/7765 [==============================] - 0s 27us/step - loss: 147.0175 - mse: 147.0175 - mae: 9.0918\n",
      "Epoch 398/500\n",
      "7765/7765 [==============================] - 0s 27us/step - loss: 150.4041 - mse: 150.4041 - mae: 9.1045\n",
      "Epoch 399/500\n",
      "7765/7765 [==============================] - 0s 27us/step - loss: 145.0585 - mse: 145.0586 - mae: 9.0535\n",
      "Epoch 400/500\n",
      "7765/7765 [==============================] - 0s 27us/step - loss: 147.8345 - mse: 147.8345 - mae: 9.0900\n",
      "Epoch 401/500\n",
      "7765/7765 [==============================] - 0s 28us/step - loss: 149.1874 - mse: 149.1874 - mae: 9.1239: 0s - loss: 139.7867 - mse: 139.7867 - mae: 8.96\n",
      "Epoch 402/500\n",
      "7765/7765 [==============================] - 0s 26us/step - loss: 146.6263 - mse: 146.6262 - mae: 9.0797\n",
      "Epoch 403/500\n",
      "7765/7765 [==============================] - 0s 29us/step - loss: 148.3772 - mse: 148.3771 - mae: 9.1034\n",
      "Epoch 404/500\n"
     ]
    },
    {
     "name": "stdout",
     "output_type": "stream",
     "text": [
      "7765/7765 [==============================] - 0s 27us/step - loss: 144.3924 - mse: 144.3924 - mae: 9.0345\n",
      "Epoch 405/500\n",
      "7765/7765 [==============================] - 0s 29us/step - loss: 148.0200 - mse: 148.0200 - mae: 9.0828\n",
      "Epoch 406/500\n",
      "7765/7765 [==============================] - 0s 29us/step - loss: 146.6411 - mse: 146.6412 - mae: 9.0851\n",
      "Epoch 407/500\n",
      "7765/7765 [==============================] - 0s 28us/step - loss: 147.1816 - mse: 147.1816 - mae: 9.0975\n",
      "Epoch 408/500\n",
      "7765/7765 [==============================] - 0s 28us/step - loss: 147.0370 - mse: 147.0370 - mae: 9.0780\n",
      "Epoch 409/500\n",
      "7765/7765 [==============================] - 0s 27us/step - loss: 145.7729 - mse: 145.7729 - mae: 9.0536\n",
      "Epoch 410/500\n",
      "7765/7765 [==============================] - 0s 28us/step - loss: 147.4073 - mse: 147.4073 - mae: 9.0774\n",
      "Epoch 411/500\n",
      "7765/7765 [==============================] - 0s 27us/step - loss: 145.7365 - mse: 145.7365 - mae: 9.0942\n",
      "Epoch 412/500\n",
      "7765/7765 [==============================] - 0s 27us/step - loss: 145.6419 - mse: 145.6419 - mae: 9.0968\n",
      "Epoch 413/500\n",
      "7765/7765 [==============================] - 0s 29us/step - loss: 145.8365 - mse: 145.8366 - mae: 9.0807: 0s - loss: 147.2725 - mse: 147.2725 - mae: 9.1\n",
      "Epoch 414/500\n",
      "7765/7765 [==============================] - 0s 28us/step - loss: 149.1542 - mse: 149.1543 - mae: 9.0890\n",
      "Epoch 415/500\n",
      "7765/7765 [==============================] - 0s 29us/step - loss: 145.0316 - mse: 145.0316 - mae: 9.0494\n",
      "Epoch 416/500\n",
      "7765/7765 [==============================] - 0s 28us/step - loss: 145.8462 - mse: 145.8463 - mae: 9.0753\n",
      "Epoch 417/500\n",
      "7765/7765 [==============================] - 0s 29us/step - loss: 149.4483 - mse: 149.4484 - mae: 9.1046\n",
      "Epoch 418/500\n",
      "7765/7765 [==============================] - 0s 28us/step - loss: 147.8594 - mse: 147.8594 - mae: 9.1023\n",
      "Epoch 419/500\n",
      "7765/7765 [==============================] - 0s 28us/step - loss: 146.7423 - mse: 146.7423 - mae: 9.0979: 0s - loss: 149.6509 - mse: 149.6509 - mae: 9.11\n",
      "Epoch 420/500\n",
      "7765/7765 [==============================] - 0s 28us/step - loss: 145.3127 - mse: 145.3127 - mae: 9.0725\n",
      "Epoch 421/500\n",
      "7765/7765 [==============================] - 0s 27us/step - loss: 146.8126 - mse: 146.8126 - mae: 9.1003\n",
      "Epoch 422/500\n",
      "7765/7765 [==============================] - 0s 28us/step - loss: 146.8713 - mse: 146.8713 - mae: 9.0790\n",
      "Epoch 423/500\n",
      "7765/7765 [==============================] - 0s 28us/step - loss: 147.2340 - mse: 147.2341 - mae: 9.0772\n",
      "Epoch 424/500\n",
      "7765/7765 [==============================] - 0s 28us/step - loss: 146.1736 - mse: 146.1736 - mae: 9.0802\n",
      "Epoch 425/500\n",
      "7765/7765 [==============================] - 0s 28us/step - loss: 144.8979 - mse: 144.8979 - mae: 9.0375\n",
      "Epoch 426/500\n",
      "7765/7765 [==============================] - 0s 28us/step - loss: 146.7235 - mse: 146.7236 - mae: 9.0984\n",
      "Epoch 427/500\n",
      "7765/7765 [==============================] - 0s 26us/step - loss: 147.4868 - mse: 147.4868 - mae: 9.1116\n",
      "Epoch 428/500\n",
      "7765/7765 [==============================] - 0s 28us/step - loss: 145.8542 - mse: 145.8542 - mae: 9.0844\n",
      "Epoch 429/500\n",
      "7765/7765 [==============================] - 0s 28us/step - loss: 146.0971 - mse: 146.0971 - mae: 9.0801\n",
      "Epoch 430/500\n",
      "7765/7765 [==============================] - 0s 27us/step - loss: 147.0250 - mse: 147.0251 - mae: 9.0694\n",
      "Epoch 431/500\n",
      "7765/7765 [==============================] - 0s 27us/step - loss: 147.2849 - mse: 147.2849 - mae: 9.0626\n",
      "Epoch 432/500\n",
      "7765/7765 [==============================] - 0s 28us/step - loss: 147.5202 - mse: 147.5202 - mae: 9.1011\n",
      "Epoch 433/500\n",
      "7765/7765 [==============================] - 0s 27us/step - loss: 148.1567 - mse: 148.1567 - mae: 9.1008\n",
      "Epoch 434/500\n",
      "7765/7765 [==============================] - 0s 28us/step - loss: 147.2199 - mse: 147.2198 - mae: 9.0643\n",
      "Epoch 435/500\n",
      "7765/7765 [==============================] - 0s 28us/step - loss: 144.4296 - mse: 144.4296 - mae: 9.0185\n",
      "Epoch 436/500\n",
      "7765/7765 [==============================] - 0s 28us/step - loss: 146.7785 - mse: 146.7785 - mae: 9.0769\n",
      "Epoch 437/500\n",
      "7765/7765 [==============================] - 0s 27us/step - loss: 146.6355 - mse: 146.6354 - mae: 9.0637\n",
      "Epoch 438/500\n",
      "7765/7765 [==============================] - 0s 29us/step - loss: 147.2362 - mse: 147.2361 - mae: 9.0885\n",
      "Epoch 439/500\n",
      "7765/7765 [==============================] - 0s 28us/step - loss: 148.3483 - mse: 148.3483 - mae: 9.1042\n",
      "Epoch 440/500\n",
      "7765/7765 [==============================] - 0s 28us/step - loss: 146.6089 - mse: 146.6089 - mae: 9.0653\n",
      "Epoch 441/500\n",
      "7765/7765 [==============================] - 0s 28us/step - loss: 147.0118 - mse: 147.0119 - mae: 9.0831\n",
      "Epoch 442/500\n",
      "7765/7765 [==============================] - 0s 28us/step - loss: 148.2570 - mse: 148.2569 - mae: 9.0703\n",
      "Epoch 443/500\n",
      "7765/7765 [==============================] - 0s 28us/step - loss: 146.9791 - mse: 146.9790 - mae: 9.0693\n",
      "Epoch 444/500\n",
      "7765/7765 [==============================] - 0s 27us/step - loss: 146.4041 - mse: 146.4041 - mae: 9.0796\n",
      "Epoch 445/500\n",
      "7765/7765 [==============================] - 0s 28us/step - loss: 147.5899 - mse: 147.5900 - mae: 9.0805\n",
      "Epoch 446/500\n",
      "7765/7765 [==============================] - 0s 27us/step - loss: 147.1530 - mse: 147.1529 - mae: 9.0738\n",
      "Epoch 447/500\n",
      "7765/7765 [==============================] - 0s 26us/step - loss: 148.2553 - mse: 148.2553 - mae: 9.0977\n",
      "Epoch 448/500\n",
      "7765/7765 [==============================] - 0s 29us/step - loss: 145.8615 - mse: 145.8615 - mae: 9.0899\n",
      "Epoch 449/500\n",
      "7765/7765 [==============================] - 0s 27us/step - loss: 148.1265 - mse: 148.1265 - mae: 9.0836\n",
      "Epoch 450/500\n",
      "7765/7765 [==============================] - 0s 27us/step - loss: 146.2153 - mse: 146.2154 - mae: 9.0612\n",
      "Epoch 451/500\n",
      "7765/7765 [==============================] - 0s 28us/step - loss: 147.3913 - mse: 147.3913 - mae: 9.0902\n",
      "Epoch 452/500\n",
      "7765/7765 [==============================] - 0s 27us/step - loss: 147.3547 - mse: 147.3546 - mae: 9.0927\n",
      "Epoch 453/500\n",
      "7765/7765 [==============================] - 0s 27us/step - loss: 148.1826 - mse: 148.1826 - mae: 9.1121\n",
      "Epoch 454/500\n",
      "7765/7765 [==============================] - 0s 27us/step - loss: 147.4725 - mse: 147.4725 - mae: 9.0942\n",
      "Epoch 455/500\n",
      "7765/7765 [==============================] - 0s 27us/step - loss: 145.4692 - mse: 145.4692 - mae: 9.0451\n",
      "Epoch 456/500\n",
      "7765/7765 [==============================] - 0s 27us/step - loss: 147.2888 - mse: 147.2889 - mae: 9.0925\n",
      "Epoch 457/500\n",
      "7765/7765 [==============================] - 0s 28us/step - loss: 147.7199 - mse: 147.7199 - mae: 9.0836: 0s - loss: 151.9233 - mse: 151.9233 - mae: 9.14\n",
      "Epoch 458/500\n",
      "7765/7765 [==============================] - 0s 28us/step - loss: 148.5985 - mse: 148.5986 - mae: 9.1107\n",
      "Epoch 459/500\n",
      "7765/7765 [==============================] - 0s 27us/step - loss: 145.2193 - mse: 145.2193 - mae: 9.0504\n",
      "Epoch 460/500\n",
      "7765/7765 [==============================] - 0s 26us/step - loss: 146.1096 - mse: 146.1095 - mae: 9.0681\n",
      "Epoch 461/500\n",
      "7765/7765 [==============================] - 0s 27us/step - loss: 146.4740 - mse: 146.4740 - mae: 9.0652: 0s - loss: 140.6898 - mse: 140.6898 - mae: 9.0\n",
      "Epoch 462/500\n",
      "7765/7765 [==============================] - 0s 27us/step - loss: 146.4665 - mse: 146.4665 - mae: 9.0576\n",
      "Epoch 463/500\n",
      "7765/7765 [==============================] - 0s 28us/step - loss: 147.4042 - mse: 147.4043 - mae: 9.0939\n",
      "Epoch 464/500\n",
      "7765/7765 [==============================] - 0s 28us/step - loss: 144.7040 - mse: 144.7040 - mae: 9.0152\n",
      "Epoch 465/500\n",
      "7765/7765 [==============================] - 0s 29us/step - loss: 147.4406 - mse: 147.4406 - mae: 9.0731\n",
      "Epoch 466/500\n",
      "7765/7765 [==============================] - 0s 28us/step - loss: 147.1540 - mse: 147.1540 - mae: 9.0947\n",
      "Epoch 467/500\n",
      "7765/7765 [==============================] - 0s 27us/step - loss: 146.1209 - mse: 146.1209 - mae: 9.0649\n",
      "Epoch 468/500\n",
      "7765/7765 [==============================] - 0s 27us/step - loss: 145.2798 - mse: 145.2798 - mae: 9.0313\n",
      "Epoch 469/500\n",
      "7765/7765 [==============================] - 0s 27us/step - loss: 147.9523 - mse: 147.9524 - mae: 9.0759\n",
      "Epoch 470/500\n",
      "7765/7765 [==============================] - 0s 27us/step - loss: 148.1307 - mse: 148.1307 - mae: 9.0763\n",
      "Epoch 471/500\n",
      "7765/7765 [==============================] - 0s 28us/step - loss: 147.7915 - mse: 147.7915 - mae: 9.0624\n",
      "Epoch 472/500\n",
      "7765/7765 [==============================] - 0s 26us/step - loss: 146.2109 - mse: 146.2109 - mae: 9.0608\n",
      "Epoch 473/500\n",
      "7765/7765 [==============================] - 0s 27us/step - loss: 145.9574 - mse: 145.9573 - mae: 9.0663\n",
      "Epoch 474/500\n",
      "7765/7765 [==============================] - 0s 28us/step - loss: 146.6899 - mse: 146.6899 - mae: 9.0708\n",
      "Epoch 475/500\n",
      "7765/7765 [==============================] - 0s 28us/step - loss: 148.4331 - mse: 148.4332 - mae: 9.0888\n",
      "Epoch 476/500\n",
      "7765/7765 [==============================] - 0s 27us/step - loss: 146.1007 - mse: 146.1007 - mae: 9.0720\n",
      "Epoch 477/500\n",
      "7765/7765 [==============================] - 0s 27us/step - loss: 146.2453 - mse: 146.2453 - mae: 9.0678\n",
      "Epoch 478/500\n",
      "7765/7765 [==============================] - 0s 27us/step - loss: 146.8383 - mse: 146.8383 - mae: 9.0879\n",
      "Epoch 479/500\n",
      "7765/7765 [==============================] - 0s 28us/step - loss: 147.8377 - mse: 147.8378 - mae: 9.0861\n",
      "Epoch 480/500\n",
      "7765/7765 [==============================] - 0s 27us/step - loss: 147.3916 - mse: 147.3916 - mae: 9.0791\n",
      "Epoch 481/500\n",
      "7765/7765 [==============================] - 0s 28us/step - loss: 146.1087 - mse: 146.1087 - mae: 9.0613\n",
      "Epoch 482/500\n",
      "7765/7765 [==============================] - 0s 27us/step - loss: 146.4952 - mse: 146.4951 - mae: 9.0759\n",
      "Epoch 483/500\n",
      "7765/7765 [==============================] - 0s 28us/step - loss: 147.0298 - mse: 147.0298 - mae: 9.1015\n",
      "Epoch 484/500\n",
      "7765/7765 [==============================] - 0s 28us/step - loss: 146.8710 - mse: 146.8711 - mae: 9.0806\n",
      "Epoch 485/500\n",
      "7765/7765 [==============================] - 0s 28us/step - loss: 148.8937 - mse: 148.8937 - mae: 9.1054\n",
      "Epoch 486/500\n",
      "7765/7765 [==============================] - 0s 28us/step - loss: 148.3309 - mse: 148.3309 - mae: 9.1056\n",
      "Epoch 487/500\n",
      "7765/7765 [==============================] - 0s 28us/step - loss: 146.4400 - mse: 146.4400 - mae: 9.0399\n",
      "Epoch 488/500\n",
      "7765/7765 [==============================] - 0s 27us/step - loss: 145.7229 - mse: 145.7229 - mae: 9.0456\n",
      "Epoch 489/500\n",
      "7765/7765 [==============================] - 0s 27us/step - loss: 147.1277 - mse: 147.1277 - mae: 9.0854\n",
      "Epoch 490/500\n",
      "7765/7765 [==============================] - 0s 28us/step - loss: 149.3003 - mse: 149.3003 - mae: 9.0976\n",
      "Epoch 491/500\n",
      "7765/7765 [==============================] - 0s 28us/step - loss: 148.6286 - mse: 148.6285 - mae: 9.0852\n",
      "Epoch 492/500\n",
      "7765/7765 [==============================] - 0s 27us/step - loss: 146.7704 - mse: 146.7704 - mae: 9.0752\n",
      "Epoch 493/500\n",
      "7765/7765 [==============================] - 0s 27us/step - loss: 145.8589 - mse: 145.8589 - mae: 9.0811\n",
      "Epoch 494/500\n",
      "7765/7765 [==============================] - 0s 28us/step - loss: 145.6386 - mse: 145.6387 - mae: 9.0413\n",
      "Epoch 495/500\n",
      "7765/7765 [==============================] - 0s 27us/step - loss: 146.9400 - mse: 146.9400 - mae: 9.0806\n",
      "Epoch 496/500\n",
      "7765/7765 [==============================] - 0s 27us/step - loss: 146.1000 - mse: 146.1000 - mae: 9.0696\n",
      "Epoch 497/500\n",
      "7765/7765 [==============================] - 0s 27us/step - loss: 145.9527 - mse: 145.9527 - mae: 9.0625\n",
      "Epoch 498/500\n",
      "7765/7765 [==============================] - 0s 27us/step - loss: 146.6187 - mse: 146.6187 - mae: 9.0747\n",
      "Epoch 499/500\n",
      "7765/7765 [==============================] - 0s 32us/step - loss: 146.9900 - mse: 146.9900 - mae: 9.0835: 0s - loss: 139.5123 - mse: 139.5123 - mae: 8.97\n",
      "Epoch 500/500\n",
      "7765/7765 [==============================] - 0s 34us/step - loss: 146.5136 - mse: 146.5136 - mae: 9.0542\n"
     ]
    },
    {
     "data": {
      "text/plain": [
       "GridSearchCV(cv=10, error_score='raise-deprecating',\n",
       "             estimator=<keras.wrappers.scikit_learn.KerasRegressor object at 0x000002A18B365608>,\n",
       "             iid='warn', n_jobs=4,\n",
       "             param_grid={'batch_size': [32, 64], 'epochs': [100, 500],\n",
       "                         'optimizer': ['Adamax', 'rmsprop']},\n",
       "             pre_dispatch='2*n_jobs', refit=True, return_train_score=True,\n",
       "             scoring='neg_mean_squared_error', verbose=0)"
      ]
     },
     "execution_count": 59,
     "metadata": {},
     "output_type": "execute_result"
    }
   ],
   "source": [
    "gd_cv_ann.fit(X_train_skl, y_train)"
   ]
  },
  {
   "cell_type": "code",
   "execution_count": 60,
   "metadata": {},
   "outputs": [
    {
     "data": {
      "text/plain": [
       "11.918801689860423"
      ]
     },
     "execution_count": 60,
     "metadata": {},
     "output_type": "execute_result"
    }
   ],
   "source": [
    "np.sqrt(np.abs(gd_cv_ann.best_score_))"
   ]
  },
  {
   "cell_type": "code",
   "execution_count": 61,
   "metadata": {},
   "outputs": [],
   "source": [
    "pred=gd_cv_ann.predict(X_test_skl)"
   ]
  },
  {
   "cell_type": "code",
   "execution_count": 62,
   "metadata": {},
   "outputs": [
    {
     "name": "stdout",
     "output_type": "stream",
     "text": [
      "Mean Squared Error is 12.21\n",
      "Mean Abs Error is 9.03\n"
     ]
    }
   ],
   "source": [
    "print(f'Mean Squared Error is {np.sqrt(mean_squared_error(y_test, pred)) :.2f}')\n",
    "print(f'Mean Abs Error is {mean_absolute_error(y_test, pred) :.2f}')"
   ]
  },
  {
   "cell_type": "markdown",
   "metadata": {},
   "source": [
    "Preding using new data"
   ]
  },
  {
   "cell_type": "code",
   "execution_count": 63,
   "metadata": {},
   "outputs": [],
   "source": [
    "test=pd.read_excel(\"Data_Test.xlsx\")"
   ]
  },
  {
   "cell_type": "code",
   "execution_count": 64,
   "metadata": {},
   "outputs": [
    {
     "data": {
      "text/html": [
       "<div>\n",
       "<style scoped>\n",
       "    .dataframe tbody tr th:only-of-type {\n",
       "        vertical-align: middle;\n",
       "    }\n",
       "\n",
       "    .dataframe tbody tr th {\n",
       "        vertical-align: top;\n",
       "    }\n",
       "\n",
       "    .dataframe thead th {\n",
       "        text-align: right;\n",
       "    }\n",
       "</style>\n",
       "<table border=\"1\" class=\"dataframe\">\n",
       "  <thead>\n",
       "    <tr style=\"text-align: right;\">\n",
       "      <th></th>\n",
       "      <th>Restaurant</th>\n",
       "      <th>Location</th>\n",
       "      <th>Cuisines</th>\n",
       "      <th>Average_Cost</th>\n",
       "      <th>Minimum_Order</th>\n",
       "      <th>Rating</th>\n",
       "      <th>Votes</th>\n",
       "      <th>Reviews</th>\n",
       "    </tr>\n",
       "  </thead>\n",
       "  <tbody>\n",
       "    <tr>\n",
       "      <th>0</th>\n",
       "      <td>ID_2842</td>\n",
       "      <td>Mico Layout, Stage 2, BTM Layout,Bangalore</td>\n",
       "      <td>North Indian, Chinese, Assamese</td>\n",
       "      <td>₹350</td>\n",
       "      <td>₹50</td>\n",
       "      <td>4.2</td>\n",
       "      <td>361</td>\n",
       "      <td>225</td>\n",
       "    </tr>\n",
       "    <tr>\n",
       "      <th>1</th>\n",
       "      <td>ID_730</td>\n",
       "      <td>Mico Layout, Stage 2, BTM Layout,Bangalore</td>\n",
       "      <td>Biryani, Kebab</td>\n",
       "      <td>₹100</td>\n",
       "      <td>₹50</td>\n",
       "      <td>NEW</td>\n",
       "      <td>-</td>\n",
       "      <td>-</td>\n",
       "    </tr>\n",
       "    <tr>\n",
       "      <th>2</th>\n",
       "      <td>ID_4620</td>\n",
       "      <td>Sector 1, Noida</td>\n",
       "      <td>Fast Food</td>\n",
       "      <td>₹100</td>\n",
       "      <td>₹50</td>\n",
       "      <td>3.6</td>\n",
       "      <td>36</td>\n",
       "      <td>16</td>\n",
       "    </tr>\n",
       "    <tr>\n",
       "      <th>3</th>\n",
       "      <td>ID_5470</td>\n",
       "      <td>Babarpur, New Delhi, Delhi</td>\n",
       "      <td>Mithai, North Indian, Chinese, Fast Food, Sout...</td>\n",
       "      <td>₹200</td>\n",
       "      <td>₹50</td>\n",
       "      <td>3.6</td>\n",
       "      <td>66</td>\n",
       "      <td>33</td>\n",
       "    </tr>\n",
       "    <tr>\n",
       "      <th>4</th>\n",
       "      <td>ID_3249</td>\n",
       "      <td>Sector 1, Noida</td>\n",
       "      <td>Chinese, Fast Food</td>\n",
       "      <td>₹150</td>\n",
       "      <td>₹50</td>\n",
       "      <td>2.9</td>\n",
       "      <td>38</td>\n",
       "      <td>14</td>\n",
       "    </tr>\n",
       "  </tbody>\n",
       "</table>\n",
       "</div>"
      ],
      "text/plain": [
       "  Restaurant                                    Location  \\\n",
       "0    ID_2842  Mico Layout, Stage 2, BTM Layout,Bangalore   \n",
       "1     ID_730  Mico Layout, Stage 2, BTM Layout,Bangalore   \n",
       "2    ID_4620                             Sector 1, Noida   \n",
       "3    ID_5470                  Babarpur, New Delhi, Delhi   \n",
       "4    ID_3249                             Sector 1, Noida   \n",
       "\n",
       "                                            Cuisines Average_Cost  \\\n",
       "0                    North Indian, Chinese, Assamese         ₹350   \n",
       "1                                     Biryani, Kebab         ₹100   \n",
       "2                                          Fast Food         ₹100   \n",
       "3  Mithai, North Indian, Chinese, Fast Food, Sout...         ₹200   \n",
       "4                                 Chinese, Fast Food         ₹150   \n",
       "\n",
       "  Minimum_Order Rating Votes Reviews  \n",
       "0           ₹50    4.2   361     225  \n",
       "1           ₹50    NEW     -       -  \n",
       "2           ₹50    3.6    36      16  \n",
       "3           ₹50    3.6    66      33  \n",
       "4           ₹50    2.9    38      14  "
      ]
     },
     "execution_count": 64,
     "metadata": {},
     "output_type": "execute_result"
    }
   ],
   "source": [
    "test.head()"
   ]
  },
  {
   "cell_type": "code",
   "execution_count": 65,
   "metadata": {},
   "outputs": [],
   "source": [
    "test.drop(labels=['Restaurant'], axis=1, inplace=True)"
   ]
  },
  {
   "cell_type": "code",
   "execution_count": 66,
   "metadata": {},
   "outputs": [],
   "source": [
    "test.drop(labels=['Cuisines','Location'], axis=1, inplace=True)"
   ]
  },
  {
   "cell_type": "code",
   "execution_count": 67,
   "metadata": {},
   "outputs": [
    {
     "name": "stdout",
     "output_type": "stream",
     "text": [
      "<class 'pandas.core.frame.DataFrame'>\n",
      "RangeIndex: 2774 entries, 0 to 2773\n",
      "Data columns (total 5 columns):\n",
      "Average_Cost     2774 non-null object\n",
      "Minimum_Order    2774 non-null object\n",
      "Rating           2774 non-null object\n",
      "Votes            2774 non-null object\n",
      "Reviews          2774 non-null object\n",
      "dtypes: object(5)\n",
      "memory usage: 108.5+ KB\n"
     ]
    }
   ],
   "source": [
    "test.info()"
   ]
  },
  {
   "cell_type": "code",
   "execution_count": 68,
   "metadata": {},
   "outputs": [
    {
     "data": {
      "text/plain": [
       "Index(['Average_Cost', 'Minimum_Order', 'Rating', 'Votes', 'Reviews'], dtype='object')"
      ]
     },
     "execution_count": 68,
     "metadata": {},
     "output_type": "execute_result"
    }
   ],
   "source": [
    "test.columns"
   ]
  },
  {
   "cell_type": "code",
   "execution_count": 69,
   "metadata": {},
   "outputs": [],
   "source": [
    "test.Average_Cost=test.Average_Cost.str.replace('₹','')"
   ]
  },
  {
   "cell_type": "code",
   "execution_count": 70,
   "metadata": {},
   "outputs": [],
   "source": [
    "test.Minimum_Order=test.Minimum_Order.str.replace('₹','')"
   ]
  },
  {
   "cell_type": "code",
   "execution_count": 71,
   "metadata": {},
   "outputs": [],
   "source": [
    "test.Minimum_Order=test.Minimum_Order.astype('float')"
   ]
  },
  {
   "cell_type": "code",
   "execution_count": 72,
   "metadata": {},
   "outputs": [],
   "source": [
    "test.Average_Cost=test.Average_Cost.str.replace(',','')"
   ]
  },
  {
   "cell_type": "code",
   "execution_count": 73,
   "metadata": {},
   "outputs": [],
   "source": [
    "test.Average_Cost=test.Average_Cost.str.replace('for','0')"
   ]
  },
  {
   "cell_type": "code",
   "execution_count": 74,
   "metadata": {},
   "outputs": [],
   "source": [
    "test.Average_Cost=test.Average_Cost.astype('float')"
   ]
  },
  {
   "cell_type": "code",
   "execution_count": 75,
   "metadata": {},
   "outputs": [],
   "source": [
    "test.Average_Cost=test.Average_Cost.astype('float')"
   ]
  },
  {
   "cell_type": "code",
   "execution_count": 76,
   "metadata": {},
   "outputs": [],
   "source": [
    "test.Rating=test.Rating.str.replace('\\D+','0')"
   ]
  },
  {
   "cell_type": "code",
   "execution_count": 77,
   "metadata": {},
   "outputs": [],
   "source": [
    "test.Rating=test.Rating.astype('float')"
   ]
  },
  {
   "cell_type": "code",
   "execution_count": 78,
   "metadata": {},
   "outputs": [],
   "source": [
    "test.Reviews=test.Reviews.str.replace('\\D+','0')"
   ]
  },
  {
   "cell_type": "code",
   "execution_count": 79,
   "metadata": {},
   "outputs": [],
   "source": [
    "test.Reviews=test.Reviews.astype('float')"
   ]
  },
  {
   "cell_type": "code",
   "execution_count": 80,
   "metadata": {},
   "outputs": [],
   "source": [
    "test.Votes=test.Votes.str.replace('\\D+','0')"
   ]
  },
  {
   "cell_type": "code",
   "execution_count": 81,
   "metadata": {},
   "outputs": [],
   "source": [
    "test.Votes=test.Votes.astype('float')"
   ]
  },
  {
   "cell_type": "code",
   "execution_count": 82,
   "metadata": {},
   "outputs": [
    {
     "data": {
      "text/html": [
       "<div>\n",
       "<style scoped>\n",
       "    .dataframe tbody tr th:only-of-type {\n",
       "        vertical-align: middle;\n",
       "    }\n",
       "\n",
       "    .dataframe tbody tr th {\n",
       "        vertical-align: top;\n",
       "    }\n",
       "\n",
       "    .dataframe thead th {\n",
       "        text-align: right;\n",
       "    }\n",
       "</style>\n",
       "<table border=\"1\" class=\"dataframe\">\n",
       "  <thead>\n",
       "    <tr style=\"text-align: right;\">\n",
       "      <th></th>\n",
       "      <th>Average_Cost</th>\n",
       "      <th>Minimum_Order</th>\n",
       "      <th>Rating</th>\n",
       "      <th>Votes</th>\n",
       "      <th>Reviews</th>\n",
       "    </tr>\n",
       "  </thead>\n",
       "  <tbody>\n",
       "    <tr>\n",
       "      <th>count</th>\n",
       "      <td>2774.000000</td>\n",
       "      <td>2774.000000</td>\n",
       "      <td>2774.000000</td>\n",
       "      <td>2774.000000</td>\n",
       "      <td>2774.000000</td>\n",
       "    </tr>\n",
       "    <tr>\n",
       "      <th>mean</th>\n",
       "      <td>195.385725</td>\n",
       "      <td>53.300288</td>\n",
       "      <td>259.741528</td>\n",
       "      <td>182.589762</td>\n",
       "      <td>87.594448</td>\n",
       "    </tr>\n",
       "    <tr>\n",
       "      <th>std</th>\n",
       "      <td>114.509785</td>\n",
       "      <td>18.619802</td>\n",
       "      <td>130.142899</td>\n",
       "      <td>480.784022</td>\n",
       "      <td>263.403449</td>\n",
       "    </tr>\n",
       "    <tr>\n",
       "      <th>min</th>\n",
       "      <td>50.000000</td>\n",
       "      <td>0.000000</td>\n",
       "      <td>0.000000</td>\n",
       "      <td>0.000000</td>\n",
       "      <td>0.000000</td>\n",
       "    </tr>\n",
       "    <tr>\n",
       "      <th>25%</th>\n",
       "      <td>100.000000</td>\n",
       "      <td>50.000000</td>\n",
       "      <td>300.000000</td>\n",
       "      <td>6.000000</td>\n",
       "      <td>1.000000</td>\n",
       "    </tr>\n",
       "    <tr>\n",
       "      <th>50%</th>\n",
       "      <td>200.000000</td>\n",
       "      <td>50.000000</td>\n",
       "      <td>305.000000</td>\n",
       "      <td>35.500000</td>\n",
       "      <td>13.000000</td>\n",
       "    </tr>\n",
       "    <tr>\n",
       "      <th>75%</th>\n",
       "      <td>200.000000</td>\n",
       "      <td>50.000000</td>\n",
       "      <td>308.000000</td>\n",
       "      <td>148.750000</td>\n",
       "      <td>60.000000</td>\n",
       "    </tr>\n",
       "    <tr>\n",
       "      <th>max</th>\n",
       "      <td>1200.000000</td>\n",
       "      <td>500.000000</td>\n",
       "      <td>408.000000</td>\n",
       "      <td>7811.000000</td>\n",
       "      <td>3863.000000</td>\n",
       "    </tr>\n",
       "  </tbody>\n",
       "</table>\n",
       "</div>"
      ],
      "text/plain": [
       "       Average_Cost  Minimum_Order       Rating        Votes      Reviews\n",
       "count   2774.000000    2774.000000  2774.000000  2774.000000  2774.000000\n",
       "mean     195.385725      53.300288   259.741528   182.589762    87.594448\n",
       "std      114.509785      18.619802   130.142899   480.784022   263.403449\n",
       "min       50.000000       0.000000     0.000000     0.000000     0.000000\n",
       "25%      100.000000      50.000000   300.000000     6.000000     1.000000\n",
       "50%      200.000000      50.000000   305.000000    35.500000    13.000000\n",
       "75%      200.000000      50.000000   308.000000   148.750000    60.000000\n",
       "max     1200.000000     500.000000   408.000000  7811.000000  3863.000000"
      ]
     },
     "execution_count": 82,
     "metadata": {},
     "output_type": "execute_result"
    }
   ],
   "source": [
    "test.describe()"
   ]
  },
  {
   "cell_type": "code",
   "execution_count": 83,
   "metadata": {},
   "outputs": [
    {
     "name": "stdout",
     "output_type": "stream",
     "text": [
      "<class 'pandas.core.frame.DataFrame'>\n",
      "RangeIndex: 2774 entries, 0 to 2773\n",
      "Data columns (total 5 columns):\n",
      "Average_Cost     2774 non-null float64\n",
      "Minimum_Order    2774 non-null float64\n",
      "Rating           2774 non-null float64\n",
      "Votes            2774 non-null float64\n",
      "Reviews          2774 non-null float64\n",
      "dtypes: float64(5)\n",
      "memory usage: 108.5 KB\n"
     ]
    }
   ],
   "source": [
    "test.info()"
   ]
  },
  {
   "cell_type": "code",
   "execution_count": 103,
   "metadata": {},
   "outputs": [],
   "source": [
    "test_skl=skl_x.fit_transform(test)\n",
    "test_skl=pd.DataFrame(test_skl, columns=test.columns)"
   ]
  },
  {
   "cell_type": "code",
   "execution_count": 104,
   "metadata": {},
   "outputs": [
    {
     "name": "stdout",
     "output_type": "stream",
     "text": [
      "<class 'pandas.core.frame.DataFrame'>\n",
      "RangeIndex: 2774 entries, 0 to 2773\n",
      "Data columns (total 5 columns):\n",
      "Average_Cost     2774 non-null float64\n",
      "Minimum_Order    2774 non-null float64\n",
      "Rating           2774 non-null float64\n",
      "Votes            2774 non-null float64\n",
      "Reviews          2774 non-null float64\n",
      "dtypes: float64(5)\n",
      "memory usage: 108.5 KB\n"
     ]
    }
   ],
   "source": [
    "test_skl.info()"
   ]
  },
  {
   "cell_type": "code",
   "execution_count": 109,
   "metadata": {},
   "outputs": [],
   "source": [
    "new=gd_cv_ann.predict(test_skl)"
   ]
  },
  {
   "cell_type": "code",
   "execution_count": 113,
   "metadata": {},
   "outputs": [],
   "source": [
    "import csv\n",
    "outfile = open('output.csv','w+')\n",
    "out = csv.writer(outfile)\n",
    "out.writerows(map(lambda x: [x], np.round(new,0)))\n",
    "outfile.close()"
   ]
  }
 ],
 "metadata": {
  "kernelspec": {
   "display_name": "Python 3",
   "language": "python",
   "name": "python3"
  },
  "language_info": {
   "codemirror_mode": {
    "name": "ipython",
    "version": 3
   },
   "file_extension": ".py",
   "mimetype": "text/x-python",
   "name": "python",
   "nbconvert_exporter": "python",
   "pygments_lexer": "ipython3",
   "version": "3.7.5"
  }
 },
 "nbformat": 4,
 "nbformat_minor": 2
}
